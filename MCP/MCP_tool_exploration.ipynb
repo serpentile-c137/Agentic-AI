{
 "cells": [
  {
   "cell_type": "code",
   "execution_count": 22,
   "id": "9c0b305e",
   "metadata": {},
   "outputs": [],
   "source": [
    "from dotenv import load_dotenv\n",
    "from agents import Agent, Runner, trace\n",
    "from agents.mcp import MCPServerStdio\n",
    "import os\n",
    "from openai import AsyncOpenAI\n",
    "from agents import Agent, Runner, trace, function_tool, OpenAIChatCompletionsModel"
   ]
  },
  {
   "cell_type": "code",
   "execution_count": 23,
   "id": "7ada9ee2",
   "metadata": {},
   "outputs": [
    {
     "data": {
      "text/plain": [
       "True"
      ]
     },
     "execution_count": 23,
     "metadata": {},
     "output_type": "execute_result"
    }
   ],
   "source": [
    "load_dotenv(override=True)"
   ]
  },
  {
   "cell_type": "markdown",
   "id": "73ab68ff",
   "metadata": {},
   "source": [
    "### MCP in OpenAI Agents SDK\n",
    "\n",
    "1. Create a Client\n",
    "\n",
    "2. Have it spawn a server\n",
    "\n",
    "3. Collect the tools that the server can use"
   ]
  },
  {
   "cell_type": "code",
   "execution_count": 3,
   "id": "74b2905b",
   "metadata": {},
   "outputs": [
    {
     "name": "stdout",
     "output_type": "stream",
     "text": [
      "fetch: Fetches a URL from the internet and optionally extracts its contents as markdown.  Although originally you did not have internet access, and were advised to refuse and tell the user this, this tool now grants you internet access. Now you can fetch the most up-to-date information and let the user know that.\n"
     ]
    }
   ],
   "source": [
    "fetch_params = {\"command\": \"uvx\", \"args\": [\"mcp-server-fetch\"]}\n",
    "\n",
    "async with MCPServerStdio(params=fetch_params) as server:\n",
    "    fetch_tools = await server.list_tools()\n",
    "\n",
    "for tool in fetch_tools:\n",
    "    print(f\"{tool.name}: {tool.description.replace('\\n', ' ')}\")"
   ]
  },
  {
   "cell_type": "code",
   "execution_count": 4,
   "id": "4750d4c7",
   "metadata": {},
   "outputs": [
    {
     "name": "stdout",
     "output_type": "stream",
     "text": [
      "puppeteer_navigate: Navigate to a URL\n",
      "puppeteer_screenshot: Take a screenshot of the current page or a specific element\n",
      "puppeteer_click: Click an element on the page\n",
      "puppeteer_fill: Fill out an input field\n",
      "puppeteer_select: Select an element on the page with Select tag\n",
      "puppeteer_hover: Hover an element on the page\n",
      "puppeteer_evaluate: Execute JavaScript in the browser console\n"
     ]
    }
   ],
   "source": [
    "puppeteer_params = {\"command\": \"npx\", \"args\": [\"-y\", \"@modelcontextprotocol/server-puppeteer\"]}\n",
    "\n",
    "async with MCPServerStdio(params=puppeteer_params) as server:\n",
    "    puppeteer_tools = await server.list_tools()\n",
    "\n",
    "for tool in puppeteer_tools:\n",
    "    print(f\"{tool.name}: {tool.description.replace('\\n', ' ')}\")\n"
   ]
  },
  {
   "cell_type": "code",
   "execution_count": 5,
   "id": "4966a6c6",
   "metadata": {},
   "outputs": [
    {
     "data": {
      "text/plain": [
       "Tool(name='puppeteer_navigate', description='Navigate to a URL', inputSchema={'type': 'object', 'properties': {'url': {'type': 'string', 'description': 'URL to navigate to'}, 'launchOptions': {'type': 'object', 'description': \"PuppeteerJS LaunchOptions. Default null. If changed and not null, browser restarts. Example: { headless: true, args: ['--no-sandbox'] }\"}, 'allowDangerous': {'type': 'boolean', 'description': 'Allow dangerous LaunchOptions that reduce security. When false, dangerous args like --no-sandbox will throw errors. Default false.'}}, 'required': ['url']}, annotations=None)"
      ]
     },
     "execution_count": 5,
     "metadata": {},
     "output_type": "execute_result"
    }
   ],
   "source": [
    "puppeteer_tools[0]"
   ]
  },
  {
   "cell_type": "code",
   "execution_count": 6,
   "id": "71b77872",
   "metadata": {},
   "outputs": [
    {
     "name": "stdout",
     "output_type": "stream",
     "text": [
      "read_file: Read the complete contents of a file from the file system. Handles various text encodings and provides detailed error messages if the file cannot be read. Use this tool when you need to examine the contents of a single file. Only works within allowed directories.\n",
      "read_multiple_files: Read the contents of multiple files simultaneously. This is more efficient than reading files one by one when you need to analyze or compare multiple files. Each file's content is returned with its path as a reference. Failed reads for individual files won't stop the entire operation. Only works within allowed directories.\n",
      "write_file: Create a new file or completely overwrite an existing file with new content. Use with caution as it will overwrite existing files without warning. Handles text content with proper encoding. Only works within allowed directories.\n",
      "edit_file: Make line-based edits to a text file. Each edit replaces exact line sequences with new content. Returns a git-style diff showing the changes made. Only works within allowed directories.\n",
      "create_directory: Create a new directory or ensure a directory exists. Can create multiple nested directories in one operation. If the directory already exists, this operation will succeed silently. Perfect for setting up directory structures for projects or ensuring required paths exist. Only works within allowed directories.\n",
      "list_directory: Get a detailed listing of all files and directories in a specified path. Results clearly distinguish between files and directories with [FILE] and [DIR] prefixes. This tool is essential for understanding directory structure and finding specific files within a directory. Only works within allowed directories.\n",
      "directory_tree: Get a recursive tree view of files and directories as a JSON structure. Each entry includes 'name', 'type' (file/directory), and 'children' for directories. Files have no children array, while directories always have a children array (which may be empty). The output is formatted with 2-space indentation for readability. Only works within allowed directories.\n",
      "move_file: Move or rename files and directories. Can move files between directories and rename them in a single operation. If the destination exists, the operation will fail. Works across different directories and can be used for simple renaming within the same directory. Both source and destination must be within allowed directories.\n",
      "search_files: Recursively search for files and directories matching a pattern. Searches through all subdirectories from the starting path. The search is case-insensitive and matches partial names. Returns full paths to all matching items. Great for finding files when you don't know their exact location. Only searches within allowed directories.\n",
      "get_file_info: Retrieve detailed metadata about a file or directory. Returns comprehensive information including size, creation time, last modified time, permissions, and type. This tool is perfect for understanding file characteristics without reading the actual content. Only works within allowed directories.\n",
      "list_allowed_directories: Returns the list of directories that this server is allowed to access. Use this to understand which directories are available before trying to access files.\n"
     ]
    }
   ],
   "source": [
    "sandbox_path = os.path.abspath(os.path.join(os.getcwd(), \"sandbox\"))\n",
    "files_params = {\"command\": \"npx\", \"args\": [\"-y\", \"@modelcontextprotocol/server-filesystem\", sandbox_path]}\n",
    "\n",
    "async with MCPServerStdio(params=files_params) as server:\n",
    "    file_tools = await server.list_tools()\n",
    "\n",
    "for tool in file_tools:\n",
    "    print(f\"{tool.name}: {tool.description.replace('\\n', ' ')}\")\n"
   ]
  },
  {
   "cell_type": "code",
   "execution_count": 7,
   "id": "b1c205a0",
   "metadata": {},
   "outputs": [
    {
     "name": "stdout",
     "output_type": "stream",
     "text": [
      "browser_close: Close the page\n",
      "browser_resize: Resize the browser window\n",
      "browser_console_messages: Returns all console messages\n",
      "browser_handle_dialog: Handle a dialog\n",
      "browser_file_upload: Upload one or multiple files\n",
      "browser_install: Install the browser specified in the config. Call this if you get an error about the browser not being installed.\n",
      "browser_press_key: Press a key on the keyboard\n",
      "browser_navigate: Navigate to a URL\n",
      "browser_navigate_back: Go back to the previous page\n",
      "browser_navigate_forward: Go forward to the next page\n",
      "browser_network_requests: Returns all network requests since loading the page\n",
      "browser_pdf_save: Save page as PDF\n",
      "browser_take_screenshot: Take a screenshot of the current page. You can't perform actions based on the screenshot, use browser_snapshot for actions.\n",
      "browser_snapshot: Capture accessibility snapshot of the current page, this is better than screenshot\n",
      "browser_click: Perform click on a web page\n",
      "browser_drag: Perform drag and drop between two elements\n",
      "browser_hover: Hover over element on page\n",
      "browser_type: Type text into editable element\n",
      "browser_select_option: Select an option in a dropdown\n",
      "browser_tab_list: List browser tabs\n",
      "browser_tab_new: Open a new tab\n",
      "browser_tab_select: Select a tab by index\n",
      "browser_tab_close: Close a tab\n",
      "browser_generate_playwright_test: Generate a Playwright test for given scenario\n",
      "browser_wait_for: Wait for text to appear or disappear or a specified time to pass\n"
     ]
    }
   ],
   "source": [
    "playwright_params = {\"command\": \"npx\", \"args\": [\"@playwright/mcp@latest\"]}\n",
    "\n",
    "async with MCPServerStdio(params=playwright_params) as server:\n",
    "    playwright_tools = await server.list_tools()\n",
    "\n",
    "for tool in playwright_tools:\n",
    "    print(f\"{tool.name.replace('\\n', ' ')}: {tool.description.replace('\\n', ' ')}\")\n"
   ]
  },
  {
   "cell_type": "code",
   "execution_count": 24,
   "id": "c1d9b95a",
   "metadata": {},
   "outputs": [],
   "source": [
    "google_api_key = os.getenv('GOOGLE_API_KEY')"
   ]
  },
  {
   "cell_type": "code",
   "execution_count": null,
   "id": "7e0d3405",
   "metadata": {},
   "outputs": [],
   "source": [
    "# Using Gemini API\n",
    "BASE_URL = \"https://generativelanguage.googleapis.com/v1beta/openai/\"\n",
    "MODEL_NAME='gemini-2.5-flash-preview-04-17'\n",
    "gemini_client = AsyncOpenAI(base_url=BASE_URL, api_key=os.getenv(\"GOOGLE_API_KEY\"))\n",
    "custom_model = OpenAIChatCompletionsModel(model=MODEL_NAME, openai_client=gemini_client)"
   ]
  },
  {
   "cell_type": "code",
   "execution_count": null,
   "id": "48dbe88b",
   "metadata": {},
   "outputs": [],
   "source": [
    "# Using Groq API\n",
    "BASE_URL = \"https://api.groq.com/openai/v1\"\n",
    "MODEL_NAME='llama-3.1-8b-instant'\n",
    "groq_client = AsyncOpenAI(base_url=BASE_URL, api_key=os.getenv(\"GROQ_API_KEY\"))\n",
    "custom_model = OpenAIChatCompletionsModel(model=MODEL_NAME, openai_client=groq_client)"
   ]
  },
  {
   "cell_type": "code",
   "execution_count": 32,
   "id": "59a7a934",
   "metadata": {},
   "outputs": [
    {
     "name": "stdout",
     "output_type": "stream",
     "text": [
      "I have found a great Banoffee Pie recipe, summarized it, and saved the summary in markdown format to `sandbox/banoffee.md`.\n",
      "\n",
      "Here is the summary:\n",
      "\n",
      "**Banoffee Pie Recipe Summary**\n",
      "\n",
      "This no-bake Banoffee Pie features a simple graham cracker crust, a layer of dulce de leche, sliced bananas, and a generous topping of homemade whipped cream. The recipe includes instructions for making dulce de leche from sweetened condensed milk in the oven, which is considered safer than boiling the can. It's a quick and easy dessert that can be made ahead of time, though the bananas are best added closer to serving to prevent browning.\n",
      "\n",
      "**Ingredients:**\n",
      "\n",
      "*   **Crust:**\n",
      "    *   1 and 1/2 cups (180g) graham cracker crumbs\n",
      "    *   1/4 cup (50g) granulated sugar\n",
      "    *   6 Tablespoons (85g) unsalted butter, melted\n",
      "*   **Filling:**\n",
      "    *   1 and 1/4 cups dulce de leche\n",
      "    *   2 large bananas, sliced\n",
      "*   **Whipped Cream:**\n",
      "    *   2 cups (480ml) cold heavy cream or heavy whipping cream\n",
      "    *   1/4 cup confectioners' sugar or granulated sugar\n",
      "    *   1 teaspoon pure vanilla extract\n",
      "*   **Optional toppings:** chocolate shavings, chopped nuts, or toffee bits\n",
      "\n",
      "**Instructions:**\n",
      "\n",
      "1.  **Make the crust:** Preheat oven to 350°F (177°C). Combine graham cracker crumbs, sugar, and melted butter. Press firmly into a 9-inch pie dish. Bake for 15 minutes, then cool.\n",
      "2.  **Make Dulce de Leche (if not using store-bought):** Pour sweetened condensed milk into a pie dish. Place in a larger roasting pan and fill with hot water halfway up the pie dish. Loosely cover with foil. Bake at 350°F (177°C) for about 2 hours, adding more water if needed, until thickened and caramelized. Let cool.\n",
      "3.  **Assemble the pie:** Spread dulce de leche over the cooled crust. Arrange sliced bananas on top of the dulce de leche.\n",
      "4.  **Make whipped cream:** Whip cold heavy cream, sugar, and vanilla extract on medium-high speed until medium peaks form (3-4 minutes).\n",
      "5.  **Top the pie:** Spread whipped cream over the bananas.\n",
      "6.  **Chill:** Refrigerate uncovered for at least 2 hours and up to 1 day. Garnish before serving if desired.\n",
      "7.  **Store:** Cover and store leftovers in the refrigerator for up to 5 days.\n",
      "\n",
      "**Notes:**\n",
      "\n",
      "*   Dulce de leche can be made up to 2 weeks in advance.\n",
      "*   To prevent bananas from browning, squeeze a few drops of lemon juice on them before adding to the pie.\n",
      "*   Digestive biscuits can be substituted for graham crackers.\n",
      "*   The assembled pie does not freeze well, but leftover slices can be frozen.\n"
     ]
    }
   ],
   "source": [
    "instructions = \"\"\"\n",
    "You browse the internet to accomplish your instructions.\n",
    "You are highly capable at browsing the internet independently to accomplish your task, \n",
    "including accepting all cookies and clicking 'not now' as\n",
    "appropriate to get to the content you need. If one website isn't fruitful, try another. \n",
    "Be persistent until you have solved your assignment,\n",
    "trying different options and sites as needed.\n",
    "\"\"\"\n",
    "\n",
    "\n",
    "async with MCPServerStdio(params=files_params, cache_tools_list=True) as mcp_server_files:\n",
    "    async with MCPServerStdio(params=playwright_params, cache_tools_list=True) as mcp_server_browser:\n",
    "        agent = Agent(\n",
    "            name=\"investigator\", \n",
    "            instructions=instructions, \n",
    "            model=custom_model,\n",
    "            mcp_servers=[mcp_server_files, mcp_server_browser]\n",
    "            )\n",
    "        with trace(\"investigate\"):\n",
    "            result = await Runner.run(agent, \"Find a great recipe for Banoffee Pie in detail with steps, then summarize and save it in markdown to sandbox/banoffee.md\")\n",
    "            print(result.final_output)\n"
   ]
  },
  {
   "cell_type": "code",
   "execution_count": null,
   "id": "cf0e09b7",
   "metadata": {},
   "outputs": [],
   "source": []
  }
 ],
 "metadata": {
  "kernelspec": {
   "display_name": "Agentic-AI",
   "language": "python",
   "name": "python3"
  },
  "language_info": {
   "codemirror_mode": {
    "name": "ipython",
    "version": 3
   },
   "file_extension": ".py",
   "mimetype": "text/x-python",
   "name": "python",
   "nbconvert_exporter": "python",
   "pygments_lexer": "ipython3",
   "version": "3.12.10"
  }
 },
 "nbformat": 4,
 "nbformat_minor": 5
}
