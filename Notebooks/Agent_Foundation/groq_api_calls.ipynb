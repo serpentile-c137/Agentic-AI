{
 "cells": [
  {
   "cell_type": "code",
   "execution_count": 1,
   "id": "275532fe",
   "metadata": {},
   "outputs": [],
   "source": [
    "from dotenv import load_dotenv"
   ]
  },
  {
   "cell_type": "code",
   "execution_count": 3,
   "id": "380b0d9a",
   "metadata": {},
   "outputs": [
    {
     "data": {
      "text/plain": [
       "True"
      ]
     },
     "execution_count": 3,
     "metadata": {},
     "output_type": "execute_result"
    }
   ],
   "source": [
    "load_dotenv(override=True)"
   ]
  },
  {
   "cell_type": "code",
   "execution_count": 4,
   "id": "d508d4cc",
   "metadata": {},
   "outputs": [
    {
     "name": "stdout",
     "output_type": "stream",
     "text": [
      "Groq API Key exists and begins gsk_eb79\n"
     ]
    }
   ],
   "source": [
    "import os\n",
    "groq_api_key=os.getenv(\"GROQ_API_KEY\")\n",
    "\n",
    "if groq_api_key:\n",
    "    print(f\"Groq API Key exists and begins {groq_api_key[:8]}\")\n",
    "else:\n",
    "    print(\"Groq API Key not set\")\n"
   ]
  },
  {
   "cell_type": "code",
   "execution_count": 5,
   "id": "058dcd6d",
   "metadata": {},
   "outputs": [],
   "source": [
    "from groq import Groq\n",
    "\n",
    "groq = Groq()"
   ]
  },
  {
   "cell_type": "code",
   "execution_count": null,
   "id": "7f2ff8a3",
   "metadata": {},
   "outputs": [],
   "source": [
    "# Create a list of messages\n",
    "messages = [{\"role\": \"user\", \"content\": \"What is 2+2?\"}]"
   ]
  },
  {
   "cell_type": "code",
   "execution_count": 7,
   "id": "bae58c54",
   "metadata": {},
   "outputs": [
    {
     "name": "stdout",
     "output_type": "stream",
     "text": [
      "2 + 2 = 4.\n"
     ]
    }
   ],
   "source": [
    "response = groq.chat.completions.create(\n",
    "    model=\"llama-3.3-70b-versatile\",\n",
    "    messages=messages\n",
    ")\n",
    "\n",
    "question = response.choices[0].message.content\n",
    "\n",
    "print(question)\n"
   ]
  },
  {
   "cell_type": "code",
   "execution_count": 8,
   "id": "f6cedc45",
   "metadata": {},
   "outputs": [],
   "source": [
    "question = \"Please propose a hard, challenging question to assess someone's IQ. Respond only with the question.\"\n",
    "messages = [{\"role\": \"user\", \"content\": question}]\n"
   ]
  },
  {
   "cell_type": "code",
   "execution_count": 9,
   "id": "50aa827f",
   "metadata": {},
   "outputs": [
    {
     "name": "stdout",
     "output_type": "stream",
     "text": [
      "A snail is at the bottom of a 20-foot well. Each day, it climbs up 3 feet, but at night, it slips back 2 feet. How many days will it take for the snail to reach the top of the well?\n"
     ]
    }
   ],
   "source": [
    "response = groq.chat.completions.create(\n",
    "    model=\"llama-3.3-70b-versatile\",\n",
    "    messages=messages\n",
    ")\n",
    "\n",
    "question = response.choices[0].message.content\n",
    "\n",
    "print(question)"
   ]
  },
  {
   "cell_type": "code",
   "execution_count": 10,
   "id": "34aae660",
   "metadata": {},
   "outputs": [],
   "source": [
    "# form a new messages list\n",
    "messages = [{\"role\": \"user\", \"content\": question}]\n"
   ]
  },
  {
   "cell_type": "code",
   "execution_count": 11,
   "id": "c145dff7",
   "metadata": {},
   "outputs": [
    {
     "name": "stdout",
     "output_type": "stream",
     "text": [
      "To find out how many days it will take for the snail to reach the top of the well, let's break down its progress:\n",
      "\n",
      "- Each day, the snail effectively moves up 3 feet (climbing) - 2 feet (slipping) = 1 foot.\n",
      "\n",
      "Since the well is 20 feet deep, we can calculate the number of days it will take for the snail to climb 20 feet, considering it moves 1 foot per day effectively. However, on the last day, the snail won't slip back at night because it will have reached the top.\n",
      "\n",
      "- For the first 17 feet (17 days), the snail moves 1 foot per day effectively (3 feet up during the day, 2 feet back at night).\n",
      "- On the 18th day, the snail will climb 3 feet and reach 20 feet. It won't slip back at night because it has reached the top.\n",
      "\n",
      "So, it will take the snail 18 days to reach the top of the well.\n"
     ]
    }
   ],
   "source": [
    "response = groq.chat.completions.create(\n",
    "    model=\"llama-3.3-70b-versatile\",\n",
    "    messages=messages\n",
    ")\n",
    "\n",
    "answer = response.choices[0].message.content\n",
    "print(answer)"
   ]
  },
  {
   "cell_type": "code",
   "execution_count": 12,
   "id": "e2d1fe82",
   "metadata": {},
   "outputs": [
    {
     "data": {
      "text/markdown": [
       "To find out how many days it will take for the snail to reach the top of the well, let's break down its progress:\n",
       "\n",
       "- Each day, the snail effectively moves up 3 feet (climbing) - 2 feet (slipping) = 1 foot.\n",
       "\n",
       "Since the well is 20 feet deep, we can calculate the number of days it will take for the snail to climb 20 feet, considering it moves 1 foot per day effectively. However, on the last day, the snail won't slip back at night because it will have reached the top.\n",
       "\n",
       "- For the first 17 feet (17 days), the snail moves 1 foot per day effectively (3 feet up during the day, 2 feet back at night).\n",
       "- On the 18th day, the snail will climb 3 feet and reach 20 feet. It won't slip back at night because it has reached the top.\n",
       "\n",
       "So, it will take the snail 18 days to reach the top of the well."
      ],
      "text/plain": [
       "<IPython.core.display.Markdown object>"
      ]
     },
     "metadata": {},
     "output_type": "display_data"
    }
   ],
   "source": [
    "from IPython.display import Markdown, display\n",
    "\n",
    "display(Markdown(answer))\n"
   ]
  },
  {
   "cell_type": "markdown",
   "id": "14a784a8",
   "metadata": {},
   "source": [
    "### Creating a function for api calls"
   ]
  },
  {
   "cell_type": "code",
   "execution_count": 18,
   "id": "116ea5f4",
   "metadata": {},
   "outputs": [],
   "source": [
    "def get_groq_response(messages, model=\"llama-3.3-70b-versatile\"):\n",
    "    \"\"\"\n",
    "    Sends a chat completion request to the Groq API and returns the response content.\n",
    "\n",
    "    Args:\n",
    "        messages (list): List of message dicts for the conversation.\n",
    "        model (str): Model name to use for completion.\n",
    "\n",
    "    Returns:\n",
    "        str: The assistant's response content.\n",
    "    \"\"\"\n",
    "    resp = groq.chat.completions.create(\n",
    "        model=model,\n",
    "        messages=messages\n",
    "    )\n",
    "    # answer = resp.choices[0].message.content\n",
    "    # display(Markdown(answer))\n",
    "    return resp.choices[0].message.content"
   ]
  },
  {
   "cell_type": "code",
   "execution_count": 16,
   "id": "564ef947",
   "metadata": {},
   "outputs": [],
   "source": [
    "model = \"llama-3.3-70b-versatile\"\n",
    "messages = [{\"role\": \"user\", \"content\": \"What is 2+2?\"}]"
   ]
  },
  {
   "cell_type": "code",
   "execution_count": 19,
   "id": "ea8ec8d0",
   "metadata": {},
   "outputs": [
    {
     "data": {
      "text/plain": [
       "'2 + 2 = 4.'"
      ]
     },
     "metadata": {},
     "output_type": "display_data"
    }
   ],
   "source": [
    "display(get_groq_response(messages, model))"
   ]
  },
  {
   "cell_type": "code",
   "execution_count": 21,
   "id": "a9ce4ab5",
   "metadata": {},
   "outputs": [],
   "source": [
    "# First create the messages:\n",
    "\n",
    "messages = [{\"role\": \"user\", \"content\": \"Give me a business area that might be ripe for an Agentic AI solution.\"}]\n",
    "\n",
    "business_idea = get_groq_response(messages, model)\n"
   ]
  },
  {
   "cell_type": "code",
   "execution_count": 22,
   "id": "d66f76ae",
   "metadata": {},
   "outputs": [
    {
     "data": {
      "text/markdown": [
       "One business area that might be ripe for an Agentic AI solution is **Supply Chain Management**, particularly in the realm of **Inventory Optimization**.\n",
       "\n",
       "Here's a brief overview:\n",
       "\n",
       "**Problem Statement:**\n",
       "\n",
       "* Traditional supply chain management systems rely on manual forecasting, which can lead to inaccurate predictions, stockouts, and overstocking.\n",
       "* The complexity of modern supply chains, with multiple stakeholders, vendors, and transportation modes, makes it challenging to optimize inventory levels in real-time.\n",
       "\n",
       "**Opportunity for Agentic AI:**\n",
       "\n",
       "* An Agentic AI solution can be designed to continuously monitor and analyze supply chain data, such as demand patterns, weather forecasts, and transportation logistics.\n",
       "* By using machine learning algorithms and real-time data, the AI system can predict demand fluctuations, detect potential disruptions, and optimize inventory levels accordingly.\n",
       "* The Agentic AI can also negotiate with suppliers, manage warehouse operations, and coordinate with logistics providers to ensure seamless execution of the optimized inventory plan.\n",
       "\n",
       "**Key Benefits:**\n",
       "\n",
       "* Improved forecasting accuracy, reducing stockouts and overstocking\n",
       "* Increased supply chain resilience and adaptability to disruptions\n",
       "* Enhanced collaboration and negotiation with suppliers and logistics providers\n",
       "* Real-time monitoring and optimization of inventory levels, reducing waste and excess inventory\n",
       "\n",
       "**Potential Agentic AI Capabilities:**\n",
       "\n",
       "* Autonomous decision-making: The AI system can make decisions on inventory optimization, supplier selection, and logistics routing without human intervention.\n",
       "* Self-improvement: The AI system can learn from experience, adapting to changes in the supply chain and improving its forecasting and optimization capabilities over time.\n",
       "* Human-AI collaboration: The AI system can provide recommendations and insights to human supply chain managers, enabling them to make more informed decisions.\n",
       "\n",
       "By leveraging Agentic AI in supply chain management, businesses can create more efficient, resilient, and adaptable supply chains, ultimately leading to cost savings, improved customer satisfaction, and competitive advantage."
      ],
      "text/plain": [
       "<IPython.core.display.Markdown object>"
      ]
     },
     "metadata": {},
     "output_type": "display_data"
    }
   ],
   "source": [
    "display(Markdown(business_idea))"
   ]
  },
  {
   "cell_type": "code",
   "execution_count": 23,
   "id": "cccc42c8",
   "metadata": {},
   "outputs": [
    {
     "data": {
      "text/markdown": [
       "The pain point in the business area of Supply Chain Management, specifically in Inventory Optimization, is the reliance on manual forecasting, which leads to:\n",
       "\n",
       "1. **Inaccurate predictions**: Traditional supply chain management systems often rely on manual forecasting, which can result in inaccurate predictions, leading to stockouts or overstocking.\n",
       "2. **Stockouts and overstocking**: The inability to accurately predict demand can lead to stockouts, resulting in lost sales and revenue, or overstocking, which can lead to waste, excess inventory, and increased storage costs.\n",
       "3. **Complexity in modern supply chains**: The complexity of modern supply chains, with multiple stakeholders, vendors, and transportation modes, makes it challenging to optimize inventory levels in real-time.\n",
       "4. **Lack of adaptability to disruptions**: Traditional supply chain management systems often struggle to adapt to disruptions, such as changes in demand, weather forecasts, or transportation logistics, leading to inefficiencies and increased costs.\n",
       "\n",
       "This pain point creates an opportunity for Agentic AI to provide a solution that can continuously monitor and analyze supply chain data, predict demand fluctuations, and optimize inventory levels in real-time, leading to improved forecasting accuracy, increased supply chain resilience, and enhanced collaboration with suppliers and logistics providers."
      ],
      "text/plain": [
       "<IPython.core.display.Markdown object>"
      ]
     },
     "metadata": {},
     "output_type": "display_data"
    }
   ],
   "source": [
    "# Update the message with the business idea from previous step\n",
    "messages = [{\"role\": \"user\", \"content\": \"What is the pain point in the business area of \" + business_idea + \"?\"}]\n",
    "pain_point = get_groq_response(messages, model)\n",
    "display(Markdown(pain_point))"
   ]
  },
  {
   "cell_type": "code",
   "execution_count": 24,
   "id": "9598020b",
   "metadata": {},
   "outputs": [
    {
     "data": {
      "text/markdown": [
       "The Agentic AI solution for the pain point in Supply Chain Management, specifically in Inventory Optimization, is an AI-powered predictive analytics platform that leverages machine learning algorithms to analyze real-time data from various sources, including:\n",
       "\n",
       "1. **Historical sales data**: Analyzing historical sales data to identify patterns and trends.\n",
       "2. **Market trends and seasonality**: Incorporating market trends and seasonality to improve forecasting accuracy.\n",
       "3. **Weather forecasts**: Integrating weather forecasts to anticipate potential disruptions.\n",
       "4. **Social media and news**: Monitoring social media and news to stay informed about events that may impact demand.\n",
       "5. **Supplier and logistics data**: Collaborating with suppliers and logistics providers to gain real-time insights into inventory levels, lead times, and transportation schedules.\n",
       "\n",
       "The Agentic AI solution provides the following benefits:\n",
       "\n",
       "1. **Accurate predictions**: AI-powered predictive analytics enables accurate predictions of demand fluctuations, reducing the risk of stockouts and overstocking.\n",
       "2. **Real-time optimization**: The platform optimizes inventory levels in real-time, ensuring that the right products are stocked at the right levels to meet changing demand.\n",
       "3. **Increased supply chain resilience**: The solution helps supply chains adapt to disruptions, such as changes in demand or transportation logistics, by providing real-time insights and recommendations.\n",
       "4. **Enhanced collaboration**: The platform facilitates collaboration with suppliers and logistics providers, enabling seamless communication and coordination to optimize inventory levels and reduce costs.\n",
       "5. **Continuous monitoring and improvement**: The solution continuously monitors supply chain data and adjusts predictions and recommendations accordingly, ensuring that the supply chain remains optimized and efficient.\n",
       "\n",
       "The Agentic AI solution can be implemented in various ways, including:\n",
       "\n",
       "1. **Cloud-based platform**: A cloud-based platform that can be accessed through a web interface or mobile app.\n",
       "2. **Integration with existing systems**: Integration with existing supply chain management systems, such as ERP or CRM systems.\n",
       "3. **API-based integration**: API-based integration with other systems and applications, enabling seamless data exchange and collaboration.\n",
       "\n",
       "The benefits of the Agentic AI solution include:\n",
       "\n",
       "1. **Improved forecasting accuracy**: AI-powered predictive analytics improves forecasting accuracy, reducing the risk of stockouts and overstocking.\n",
       "2. **Increased supply chain efficiency**: Real-time optimization and prediction enable supply chains to respond quickly to changing demand, reducing costs and improving efficiency.\n",
       "3. **Enhanced collaboration**: The platform facilitates collaboration with suppliers and logistics providers, enabling seamless communication and coordination to optimize inventory levels and reduce costs.\n",
       "4. **Increased revenue**: Improved forecasting accuracy and supply chain efficiency can lead to increased revenue and profitability.\n",
       "5. **Competitive advantage**: The Agentic AI solution provides a competitive advantage by enabling businesses to respond quickly to changing demand and market conditions, staying ahead of the competition."
      ],
      "text/plain": [
       "<IPython.core.display.Markdown object>"
      ]
     },
     "metadata": {},
     "output_type": "display_data"
    }
   ],
   "source": [
    "messages = [{\"role\": \"user\", \"content\": \"What is the Agentic AI solution for the pain point of \" + pain_point + \"?\"}]\n",
    "solution = get_groq_response(messages, model)\n",
    "display(Markdown(solution))"
   ]
  },
  {
   "cell_type": "code",
   "execution_count": null,
   "id": "6514f140",
   "metadata": {},
   "outputs": [],
   "source": []
  }
 ],
 "metadata": {
  "kernelspec": {
   "display_name": ".venv",
   "language": "python",
   "name": "python3"
  },
  "language_info": {
   "codemirror_mode": {
    "name": "ipython",
    "version": 3
   },
   "file_extension": ".py",
   "mimetype": "text/x-python",
   "name": "python",
   "nbconvert_exporter": "python",
   "pygments_lexer": "ipython3",
   "version": "3.12.10"
  }
 },
 "nbformat": 4,
 "nbformat_minor": 5
}
