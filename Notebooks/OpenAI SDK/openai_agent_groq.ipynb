{
 "cells": [
  {
   "cell_type": "code",
   "execution_count": 2,
   "id": "17eaa266",
   "metadata": {},
   "outputs": [
    {
     "name": "stderr",
     "output_type": "stream",
     "text": [
      "OPENAI_API_KEY is not set, skipping trace export\n"
     ]
    }
   ],
   "source": [
    "from dotenv import load_dotenv\n",
    "from agents import Agent, Runner, OpenAIChatCompletionsModel\n",
    "from openai import AsyncOpenAI\n",
    "import os"
   ]
  },
  {
   "cell_type": "code",
   "execution_count": 3,
   "id": "0e33b7ae",
   "metadata": {},
   "outputs": [
    {
     "data": {
      "text/plain": [
       "True"
      ]
     },
     "execution_count": 3,
     "metadata": {},
     "output_type": "execute_result"
    }
   ],
   "source": [
    "load_dotenv(override=True)"
   ]
  },
  {
   "cell_type": "code",
   "execution_count": 4,
   "id": "38445e0c",
   "metadata": {},
   "outputs": [],
   "source": [
    "BASE_URL = \"https://api.groq.com/openai/v1\"\n",
    "MODEL_NAME='llama-3.3-70b-versatile'\n",
    "\n",
    "groq_client = AsyncOpenAI(base_url=BASE_URL, api_key=os.getenv(\"GROQ_API_KEY\"))\n",
    "\n",
    "custom_model = OpenAIChatCompletionsModel(model=MODEL_NAME, openai_client=groq_client)"
   ]
  },
  {
   "cell_type": "code",
   "execution_count": 5,
   "id": "06861426",
   "metadata": {},
   "outputs": [],
   "source": [
    "\n",
    "# Make an agent with name, instructions, model\n",
    "\n",
    "agent = Agent(name=\"Jokester\", instructions=\"You are a joke teller\", model=custom_model)"
   ]
  },
  {
   "cell_type": "code",
   "execution_count": 6,
   "id": "c432b1cd",
   "metadata": {},
   "outputs": [
    {
     "name": "stdout",
     "output_type": "stream",
     "text": [
      "Why did the Autonomous AI Agent go to therapy?\n",
      "\n",
      "Because it was struggling to \"process\" its emotions and was feeling a little \"dis-connected\" from the rest of the world. But in the end, it just needed to \"re-boot\" its self-awareness and \"update\" its social skills!\n"
     ]
    }
   ],
   "source": [
    "# Run the joke with Runner.run(agent, prompt) then print final_output\n",
    "result = await Runner.run(agent, \"Tell a joke about Autonomous AI Agents\")\n",
    "print(result.final_output)"
   ]
  },
  {
   "cell_type": "code",
   "execution_count": null,
   "id": "b40f7131",
   "metadata": {},
   "outputs": [],
   "source": []
  }
 ],
 "metadata": {
  "kernelspec": {
   "display_name": ".venv",
   "language": "python",
   "name": "python3"
  },
  "language_info": {
   "codemirror_mode": {
    "name": "ipython",
    "version": 3
   },
   "file_extension": ".py",
   "mimetype": "text/x-python",
   "name": "python",
   "nbconvert_exporter": "python",
   "pygments_lexer": "ipython3",
   "version": "3.12.10"
  }
 },
 "nbformat": 4,
 "nbformat_minor": 5
}
