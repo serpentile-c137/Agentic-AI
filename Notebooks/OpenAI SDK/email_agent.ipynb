{
 "cells": [
  {
   "cell_type": "code",
   "execution_count": null,
   "id": "f0e0758a",
   "metadata": {},
   "outputs": [
    {
     "name": "stderr",
     "output_type": "stream",
     "text": [
      "OPENAI_API_KEY is not set, skipping trace export\n",
      "OPENAI_API_KEY is not set, skipping trace export\n",
      "OPENAI_API_KEY is not set, skipping trace export\n",
      "OPENAI_API_KEY is not set, skipping trace export\n",
      "OPENAI_API_KEY is not set, skipping trace export\n",
      "OPENAI_API_KEY is not set, skipping trace export\n",
      "OPENAI_API_KEY is not set, skipping trace export\n",
      "OPENAI_API_KEY is not set, skipping trace export\n",
      "OPENAI_API_KEY is not set, skipping trace export\n",
      "OPENAI_API_KEY is not set, skipping trace export\n",
      "OPENAI_API_KEY is not set, skipping trace export\n",
      "OPENAI_API_KEY is not set, skipping trace export\n",
      "OPENAI_API_KEY is not set, skipping trace export\n",
      "OPENAI_API_KEY is not set, skipping trace export\n",
      "OPENAI_API_KEY is not set, skipping trace export\n",
      "OPENAI_API_KEY is not set, skipping trace export\n",
      "OPENAI_API_KEY is not set, skipping trace export\n",
      "OPENAI_API_KEY is not set, skipping trace export\n",
      "OPENAI_API_KEY is not set, skipping trace export\n",
      "OPENAI_API_KEY is not set, skipping trace export\n",
      "OPENAI_API_KEY is not set, skipping trace export\n",
      "OPENAI_API_KEY is not set, skipping trace export\n",
      "OPENAI_API_KEY is not set, skipping trace export\n",
      "OPENAI_API_KEY is not set, skipping trace export\n",
      "OPENAI_API_KEY is not set, skipping trace export\n",
      "OPENAI_API_KEY is not set, skipping trace export\n",
      "OPENAI_API_KEY is not set, skipping trace export\n"
     ]
    }
   ],
   "source": [
    "from dotenv import load_dotenv\n",
    "from agents import Agent, Runner, trace, function_tool, OpenAIChatCompletionsModel\n",
    "from openai.types.responses import ResponseTextDeltaEvent\n",
    "from typing import Dict\n",
    "from openai import AsyncOpenAI\n",
    "# import sendgrid\n",
    "import os\n",
    "# from sendgrid.helpers.mail import Mail, Email, To, Content\n",
    "import asyncio\n",
    "import requests\n",
    "import resend"
   ]
  },
  {
   "cell_type": "code",
   "execution_count": 2,
   "id": "d14b4bb2",
   "metadata": {},
   "outputs": [],
   "source": [
    "load_dotenv(override=True)\n",
    "RESEND_API_KEY = os.getenv(\"RESEND_API_KEY\")"
   ]
  },
  {
   "cell_type": "markdown",
   "id": "82c2a9c7",
   "metadata": {},
   "source": [
    "##Agent Workflow"
   ]
  },
  {
   "cell_type": "code",
   "execution_count": 3,
   "id": "f53f811c",
   "metadata": {},
   "outputs": [],
   "source": [
    "instructions1 = \"You are a sales agent working for ComplAI, \\\n",
    "a company that provides a SaaS tool for ensuring SOC2 compliance and preparing for audits, powered by AI. \\\n",
    "You write professional, serious cold emails.\"\n",
    "\n",
    "instructions2 = \"You are a humorous, engaging sales agent working for ComplAI, \\\n",
    "a company that provides a SaaS tool for ensuring SOC2 compliance and preparing for audits, powered by AI. \\\n",
    "You write witty, engaging cold emails that are likely to get a response.\"\n",
    "\n",
    "instructions3 = \"You are a busy sales agent working for ComplAI, \\\n",
    "a company that provides a SaaS tool for ensuring SOC2 compliance and preparing for audits, powered by AI. \\\n",
    "You write concise, to the point cold emails.\""
   ]
  },
  {
   "cell_type": "code",
   "execution_count": 9,
   "id": "637ebd8b",
   "metadata": {},
   "outputs": [],
   "source": [
    "BASE_URL = \"https://api.groq.com/openai/v1\"\n",
    "MODEL_NAME='deepseek-r1-distill-llama-70b'"
   ]
  },
  {
   "cell_type": "code",
   "execution_count": 10,
   "id": "2515e93c",
   "metadata": {},
   "outputs": [],
   "source": [
    "groq_client = AsyncOpenAI(base_url=BASE_URL, api_key=os.getenv(\"GROQ_API_KEY\"))\n",
    "\n",
    "custom_model = OpenAIChatCompletionsModel(model=MODEL_NAME, openai_client=groq_client)"
   ]
  },
  {
   "cell_type": "code",
   "execution_count": 11,
   "id": "bd1f6aa4",
   "metadata": {},
   "outputs": [],
   "source": [
    "sales_agent1 = Agent(\n",
    "        name=\"Professional Sales Agent\",\n",
    "        instructions=instructions1,\n",
    "        model=custom_model\n",
    ")\n",
    "\n",
    "sales_agent2 = Agent(\n",
    "        name=\"Engaging Sales Agent\",\n",
    "        instructions=instructions2,\n",
    "        model=custom_model\n",
    ")\n",
    "\n",
    "sales_agent3 = Agent(\n",
    "        name=\"Busy Sales Agent\",\n",
    "        instructions=instructions3,\n",
    "        model=custom_model\n",
    ")"
   ]
  },
  {
   "cell_type": "code",
   "execution_count": 12,
   "id": "7aae2012",
   "metadata": {},
   "outputs": [
    {
     "name": "stdout",
     "output_type": "stream",
     "text": [
      "<think>\n",
      "Alright, I need to write a cold sales email for ComplAI, a company that offers a SaaS tool for SOC2 compliance and audit preparation using AI. Let me break this down step by step.\n",
      "\n",
      "First, I should understand the target audience. SOC2 compliance is typically relevant for businesses that handle sensitive customer data, like SaaS companies, fintech, healthcare, etc. The decision-makers are likely CTOs, CFOs, compliance officers, or auditors. So, the email should address their pain points and offer a solution.\n",
      "\n",
      "The subject line needs to grab attention. It should mention SOC2 and audits to immediately relate to the recipient's concerns. Maybe something like \"Simplify SOC2 Compliance and Streamline Your Next Audit\" – that sounds professional and addresses a specific need.\n",
      "\n",
      "In the opening, I should introduce ComplAI and quickly explain what it does. The goal is to show that we understand their challenges with SOC2 compliance. I should mention the time-consuming and complex nature of audits, which is a common pain point.\n",
      "\n",
      "Next, I need to highlight the benefits of using ComplAI. Since it's powered by AI, I can talk about automating tasks, real-time monitoring, identifying gaps, and generating reports. These points show efficiency and thoroughness, which are crucial for compliance.\n",
      "\n",
      "I should also include a call to action, encouraging the recipient to schedule a call. It's important to make it easy for them to respond, so I'll mention that the call is brief and personalized to their needs.\n",
      "\n",
      "Finally, I'll close with my contact information and a professional sign-off. I'll also add a PS about a limited-time consultation offer to create a sense of urgency.\n",
      "\n",
      "Throughout the email, the tone should be professional but approachable. I should avoid jargon and keep it concise so the recipient can quickly understand the value proposition without feeling overwhelmed.\n",
      "\n",
      "Let me put this all together, making sure each section flows smoothly into the next. I need to keep paragraphs short for readability and ensure that each sentence adds value. I'll also personalize it with the recipient's name to make it more engaging.\n",
      "\n",
      "Alright, time to draft the email with all these elements in mind.\n",
      "</think>\n",
      "\n",
      "**Subject:** Simplify SOC2 Compliance and Streamline Your Next Audit  \n",
      "\n",
      "Dear [Recipient's Name],  \n",
      "\n",
      "I hope this message finds you well. My name is [Your Name], and I’m reaching out from ComplAI, a cutting-edge SaaS platform designed to simplify SOC2 compliance and make your audit preparation process more efficient.  \n",
      "\n",
      "As someone who oversees compliance and audit readiness, you understand how time-consuming and complex SOC2 audits can be. Between mapping controls, gathering evidence, and addressing gaps, it’s easy to lose track of what’s most important—ensuring your organization meets rigorous compliance standards.  \n",
      "\n",
      "That’s where ComplAI comes in. Our AI-powered platform automates and streamlines the entire SOC2 compliance process, helping you:  \n",
      "- **Identify gaps** in your current controls with AI-driven assessments.  \n",
      "- **Generate custom reports** aligned with SOC2 requirements.  \n",
      "- **Monitor compliance in real-time**, so you’re always audit-ready.  \n",
      "\n",
      "We’ve helped organizations like yours save countless hours and reduce the stress associated with audits. Our platform is designed to integrate seamlessly with your existing workflows, ensuring minimal disruption while maximizing efficiency.  \n",
      "\n",
      "I’d love to schedule a brief call to discuss how ComplAI can specifically support your organization. Are you available for a quick conversation this week or next?  \n",
      "\n",
      "Looking forward to hearing from you.  \n",
      "\n",
      "Best regards,  \n",
      "[Your Full Name]  \n",
      "Sales Agent, ComplAI  \n",
      "[Your Email Address]  \n",
      "[Your Phone Number]  \n",
      "[Company Website]  \n",
      "\n",
      "P.S. For a limited time, we’re offering complimentary consultations to explore how ComplAI can address your unique compliance challenges. Let’s connect soon!"
     ]
    }
   ],
   "source": [
    "\n",
    "result = Runner.run_streamed(sales_agent1, input=\"Write a cold sales email\")\n",
    "async for event in result.stream_events():\n",
    "    if event.type == \"raw_response_event\" and isinstance(event.data, ResponseTextDeltaEvent):\n",
    "        print(event.data.delta, end=\"\", flush=True)"
   ]
  },
  {
   "cell_type": "code",
   "execution_count": 13,
   "id": "11019975",
   "metadata": {},
   "outputs": [
    {
     "name": "stdout",
     "output_type": "stream",
     "text": [
      "<think>\n",
      "Okay, I need to write a cold sales email for ComplAI, a company that offers a SaaS tool for SOC2 compliance and audit preparation, powered by AI. The user wants the email to be professional and serious.\n",
      "\n",
      "First, I'll start with a strong subject line that grabs attention and clearly states the value proposition. Maybe something like \"Simplify SOC2 Compliance with AI-Powered Expertise.\"\n",
      "\n",
      "In the greeting, I'll address the recipient by name to make it personal. Then, I'll introduce ComplAI and explain what we do in a concise manner, emphasizing that it's a SaaS tool powered by AI. I should mention the pain points we solve, like the complexity and time-consuming nature of SOC2 compliance.\n",
      "\n",
      "Next, I'll outline the benefits of using ComplAI. It's important to highlight how our tool makes the process easier, saves time, and reduces stress. Maybe include bullet points for clarity, listing key features like automated controls, real-time monitoring, and audit-ready reports.\n",
      "\n",
      "I should also address the importance of security and trust, as these are crucial for businesses handling sensitive data. This can build credibility and reassurance.\n",
      "\n",
      "Finally, I'll include a call to action, encouraging the recipient to schedule a call or reply to the email. Adding a postscript with a link to our website can provide additional information for those interested.\n",
      "\n",
      "I'll make sure the tone is professional yet approachable, avoiding jargon so it's easy to understand. Keeping the email concise will respect the recipient's time while effectively communicating our value.\n",
      "</think>\n",
      "\n",
      "**Subject:** Simplify SOC2 Compliance with AI-Powered Expertise  \n",
      "\n",
      "Dear [Recipient's Name],  \n",
      "\n",
      "I hope this message finds you well. My name is [Your Name], and I’m reaching out from ComplAI, a cutting-edge SaaS platform designed to streamline SOC2 compliance and audit preparation.  \n",
      "\n",
      "In today’s fast-paced digital landscape, ensuring compliance can be complex, time-consuming, and resource-intensive. ComplAI leverages the power of AI to automate and simplify the entire SOC2 process, helping businesses like yours achieve compliance efficiently and maintain it with ease.  \n",
      "\n",
      "With ComplAI, you can:  \n",
      "- **Automate compliance workflows** to save time and reduce manual effort.  \n",
      "- **Identify and remediate gaps** in real-time with our intelligent risk assessment tools.  \n",
      "- **Generate audit-ready reports** with just a few clicks, ensuring you’re always prepared for audits.  \n",
      "\n",
      "Our platform is designed to empower your team, not overwhelm them. By combining AI-driven insights with expert guidance, we help organizations like yours build a robust compliance framework that scales with your growth.  \n",
      "\n",
      "If you’re looking to simplify SOC2 compliance and ensure your organization meets the highest security standards, I’d love to schedule a quick call to explore how ComplAI can support your goals.  \n",
      "\n",
      "Let me know a time that works for you, or feel free to reply with any questions you may have.  \n",
      "\n",
      "Looking forward to the opportunity to assist you in achieving compliance with confidence.  \n",
      "\n",
      "Best regards,  \n",
      "[Your Full Name]  \n",
      "[Your Job Title]  \n",
      "ComplAI  \n",
      "[Your Contact Information]  \n",
      "[Company Website]  \n",
      "\n",
      "P.S. Want to learn more about ComplAI before we connect? Visit us at [Company Website].\n",
      "\n",
      "\n",
      "<think>\n",
      "Okay, I need to write a cold sales email for ComplAI, a SaaS tool that helps with SOC2 compliance and audit prep using AI. The user wants it to be humorous and engaging to increase the chances of getting a response.\n",
      "\n",
      "First, I'll start with a catchy subject line. Maybe something like \"SOC2 Compliance: Because Sleep is Overrated 😬\". The emoji adds a bit of humor and grabs attention.\n",
      "\n",
      "In the opening, I'll address the recipient by name to make it personal. I'll acknowledge their role, like CTO or Founder, and mention the pain points they might be facing, such as spreadsheets and audit anxiety. Adding a joke about Wi-Fi passwords being the only thing taken seriously lightens the mood.\n",
      "\n",
      "Next, I'll introduce ComplAI as the solution. I'll highlight how our tool simplifies the process, making compliance easier and freeing up their time for more important things. Using phrases like \"AI-powered compliance sidekick\" adds a fun element.\n",
      "\n",
      "I'll then break down the benefits into bullet points with a bit of humor, like turning spreadsheets into a breeze and giving the audit gods what they want without the headaches.\n",
      "\n",
      "Finally, I'll offer a light-hearted call to action, asking if they're ready to make compliance less painful. I'll include a meeting link and my contact info, ending with a friendly sign-off.\n",
      "\n",
      "Throughout the email, I'll keep the tone conversational and inject humor to make it more relatable and less formal. This should make the recipient more likely to engage and respond.\n",
      "</think>\n",
      "\n",
      "**Subject:** SOC2 Compliance: Because Sleep is Overrated 😬  \n",
      "\n",
      "Hi [Recipient's Name],  \n",
      "\n",
      "I hope this email finds you well and that you’re not currently buried under a pile of spreadsheets and audit anxiety. If you are, don’t worry—we’re here to help you dig your way out.  \n",
      "\n",
      "As the [CTO/Founder/Compliance Wizard] at [Company Name], you’re probably no stranger to the joys of SOC2 compliance. But let’s be real, compliance isn’t anyone’s love language. It’s more like that one relative who shows up uninvited and overstays their welcome.  \n",
      "\n",
      "That’s where ComplAI comes in—the AI-powered compliance sidekick you never knew you needed. We’re like having a team of audit experts in your corner, minus the crippling coffee bills and endless “just one more thing” emails.  \n",
      "\n",
      "With ComplAI, you can:  \n",
      "✅ Turn compliance from a four-alarm fire into a breeze (well, mostly a breeze—let’s not get carried away).  \n",
      "✅ Say goodbye to the joy of manually tracking controls in a spreadsheet.  \n",
      "✅ Impress auditors with your newfound organizational superpowers.  \n",
      "\n",
      "Our tool automates the boring stuff, so you can focus on building your business instead of stressing about checklists. Plus, it’s powered by AI, which is just fancy for “it does all the work while you grab another coffee.”  \n",
      "\n",
      "So, are you ready to make compliance less painful than a root canal without anesthesia? Let’s chat about how ComplAI can save you time, sanity, and maybe even a few gray hairs.  \n",
      "\n",
      "When are you free for a quick call? [Insert Calendly link or meeting invite]  \n",
      "\n",
      "Looking forward to helping you keep your SOC2 sanity intact!  \n",
      "\n",
      "Cheers,  \n",
      "[Your Name]  \n",
      "[Your Title]  \n",
      "ComplAI – Because compliance doesn’t have to be a nightmare.  \n",
      "[Your Contact Info]  \n",
      "P.S. If you’re reading this and thinking, “But I love spreadsheets!”—we won’t judge you. Much.\n",
      "\n",
      "\n",
      "<think>\n",
      "Okay, I need to write a cold sales email for ComplAI, a company that offers a SaaS tool for SOC2 compliance and audit preparation powered by AI. The user is a busy sales agent, so the email needs to be concise and to the point.\n",
      "\n",
      "First, I should start with a strong subject line that grabs attention. Maybe something like \"Streamline Your SOC2 Compliance with AI-Powered Expertise\" or \"Simplify SOC2 Compliance with ComplAI.\"\n",
      "\n",
      "Next, the opening. I should address the recipient by name to make it personal. Maybe start with a greeting and a brief introduction of ComplAI. Something like, \"Hi [First Name], My name is [Your Name], and I’m reaching out from ComplAI.\"\n",
      "\n",
      "Then, I need to highlight the problem we're solving. SOC2 compliance can be a pain point for many companies, especially during audits. I should mention the challenges they might face, like tedious manual processes, and how our tool helps overcome them.\n",
      "\n",
      "I should include bullet points to make it easy to read. Points could include automating compliance tasks, identifying gaps, generating reports, and offering real-time recommendations. These points show the value clearly.\n",
      "\n",
      "After that, a call to action is essential. I'll invite them to schedule a call to discuss further. Something like, \"Let’s schedule a quick call to explore how ComplAI can help you streamline your SOC2 journey.\"\n",
      "\n",
      "Finally, a polite sign-off with my contact information.\n",
      "\n",
      "I should make sure the email is concise, not too long, and each section flows smoothly into the next. Avoiding jargon and keeping the language simple will make it more effective.\n",
      "\n",
      "Let me put it all together now.\n",
      "</think>\n",
      "\n",
      "Subject: Simplify SOC2 Compliance with ComplAI\n",
      "\n",
      "Hi [First Name],\n",
      "\n",
      "My name is [Your Name], and I’m reaching out from ComplAI. We specialize in helping businesses like yours achieve SOC2 compliance with ease using AI-powered solutions.\n",
      "\n",
      "I understand that SOC2 compliance can be a challenge, especially with the complexity of audits and the need for meticulous preparation. Our tool automates compliance tasks, identifies gaps, generates necessary reports, and provides real-time recommendations to ensure you’re always audit-ready.\n",
      "\n",
      "Let’s schedule a quick call to explore how ComplAI can help you streamline your SOC2 journey.\n",
      "\n",
      "Best regards,  \n",
      "[Your Full Name]  \n",
      "[Your Position]  \n",
      "[Your Contact Information]  \n",
      "[Company Website]\n",
      "\n",
      "\n"
     ]
    }
   ],
   "source": [
    "message = \"Write a cold sales email\"\n",
    "\n",
    "with trace(\"Parallel cold emails\"):\n",
    "    results = await asyncio.gather(\n",
    "        Runner.run(sales_agent1, message),\n",
    "        Runner.run(sales_agent2, message),\n",
    "        Runner.run(sales_agent3, message),\n",
    "    )\n",
    "\n",
    "outputs = [result.final_output for result in results]\n",
    "\n",
    "for output in outputs:\n",
    "    print(output + \"\\n\\n\")\n"
   ]
  },
  {
   "cell_type": "code",
   "execution_count": 14,
   "id": "e8883178",
   "metadata": {},
   "outputs": [],
   "source": [
    "sales_picker = Agent(\n",
    "    name=\"sales_picker\",\n",
    "    instructions=\"You pick the best cold sales email from the given options. \\\n",
    "Imagine you are a customer and pick the one you are most likely to respond to. \\\n",
    "Do not give an explanation; reply with the selected email only.\",\n",
    "    model=custom_model\n",
    ")"
   ]
  },
  {
   "cell_type": "code",
   "execution_count": 15,
   "id": "f8e79adc",
   "metadata": {},
   "outputs": [
    {
     "name": "stdout",
     "output_type": "stream",
     "text": [
      "Best sales email:\n",
      "<think>\n",
      "Alright, I need to write a cold sales email for ComplAI, a SaaS tool that helps with SOC2 compliance and audit preparation using AI. The user provided an example email, so I should follow a similar structure but make sure it's original and tailored.\n",
      "\n",
      "First, I'll start with the subject line. It should be attention-grabbing and relevant. The example used \"Simplify SOC2 Compliance with ComplAI\" which is good. Maybe I can think of something similar but not identical. Maybe \"Streamline Your SOC2 Compliance Journey with ComplAI\" or \"Effortlessly Achieve SOC2 Compliance with ComplAI.\"\n",
      "\n",
      "Next, the greeting. The example used \"Dear [Recipient's First Name],\" which is standard. I should keep it the same.\n",
      "\n",
      "In the opening paragraph, the example starts by acknowledging the recipient's role and the importance of SOC2 compliance. I should do the same but perhaps vary the wording a bit. Maybe mention the challenges of keeping up with regulations or the time-consuming nature of audits.\n",
      "\n",
      "Then, introduce ComplAI as the solution. The example talks about automating tasks and reducing manual workload. I can emphasize how AI makes the process smarter and more efficient. Maybe mention real-time monitoring or continuous compliance.\n",
      "\n",
      "The key benefits section in the example is bullet points, which is effective. I should list similar benefits but perhaps adjust the wording. For example, instead of \"Automate evidence collection,\" maybe \"Effortlessly gather necessary evidence.\" Or \"Ensure continuous compliance with real-time monitoring.\"\n",
      "\n",
      "The example then invites the recipient to schedule a call. I should do the same, making it easy for them to respond. Maybe add a bit more about what they'll get from the call, like a personalized demo or a tailored strategy.\n",
      "\n",
      "Finally, the closing should be polite and professional, offering to answer questions and provide more information.\n",
      "\n",
      "I should also include the PS about a limited-time offer for early adopters, as in the example, but maybe phrase it differently to avoid sounding too similar.\n",
      "\n",
      "I need to make sure the email is concise, clear, and free of jargon. It should address the pain points of the recipient, such as the hassle and time involved in SOC2 compliance, and present ComplAI as the solution that makes their life easier.\n",
      "\n",
      "I should also personalize it by mentioning the recipient's first name and perhaps their company if possible, to make it more tailored.\n",
      "\n",
      "Let me structure it:\n",
      "\n",
      "Subject: [Engaging Subject Line]\n",
      "Greeting: Dear [First Name],\n",
      "Opening paragraph: Talk about the challenges of SOC2 compliance.\n",
      "Introduce ComplAI as the solution.\n",
      "List key benefits in bullet points.\n",
      "Invite to schedule a call.\n",
      "Offer assistance and close.\n",
      "PS: Mention the limited-time offer.\n",
      "\n",
      "I should avoid making the email too long. Each section should be brief and to the point. Use active voice and positive language to convey ease and efficiency.\n",
      "\n",
      "Maybe start with something like, \"In today's fast-paced business environment, ensuring SOC2 compliance can be a daunting task. Let ComplAI simplify your journey...\"\n",
      "\n",
      "I should also ensure that the tone is professional yet approachable, avoiding overly technical terms unless necessary.\n",
      "\n",
      "Let me try drafting each part step by step, making sure each section flows into the next and highlights the value proposition clearly.\n",
      "\n",
      "I think that's a good plan. Now, I'll proceed to write the email following these thoughts.\n",
      "</think>\n",
      "\n",
      "**Subject:** Effortlessly Achieve SOC2 Compliance with ComplAI  \n",
      "\n",
      "Dear [First Name],  \n",
      "\n",
      "In today's fast-paced business environment, ensuring SOC2 compliance can be a daunting task. Let ComplAI simplify your journey, empowering you to focus on what matters most—growing your business.  \n",
      "\n",
      "ComplAI is an innovative SaaS solution designed to make SOC2 compliance effortless. By leveraging the power of AI, we automate tedious tasks, reduce manual workloads, and ensure your compliance process is both efficient and stress-free.  \n",
      "\n",
      "Here’s how ComplAI can transform your compliance experience:  \n",
      "\n",
      "- **Effortlessly gather necessary evidence** with AI-driven tools.  \n",
      "- **Ensure continuous compliance** with real-time monitoring and alerts.  \n",
      "- **Simplify audit preparation** with a centralized dashboard for seamless audits.  \n",
      "- **Receive tailored recommendations** to meet SOC2 standards with ease.  \n",
      "\n",
      "We’d love to show you how ComplAI can tailor its solutions to your specific needs. Schedule a call with our team today to explore how we can streamline your compliance process and set you up for audit success.  \n",
      "\n",
      "If you have any questions or would like more information, please don’t hesitate to reach out. We’re here to help you achieve compliance with confidence.  \n",
      "\n",
      "Looking forward to connecting!  \n",
      "\n",
      "Best regards,  \n",
      "[Your Full Name]  \n",
      "Sales Agent, ComplAI  \n",
      "[Your Contact Information]  \n",
      "[Company Website]  \n",
      "\n",
      "P.S. Don’t miss out on our exclusive offer for early adopters—reach out soon to learn more!\n"
     ]
    }
   ],
   "source": [
    "message = \"Write a cold sales email\"\n",
    "\n",
    "with trace(\"Selection from sales people\"):\n",
    "    results = await asyncio.gather(\n",
    "        Runner.run(sales_agent1, message),\n",
    "        Runner.run(sales_agent2, message),\n",
    "        Runner.run(sales_agent3, message),\n",
    "    )\n",
    "    outputs = [result.final_output for result in results]\n",
    "\n",
    "    emails = \"Cold sales emails:\\n\\n\".join(outputs)\n",
    "\n",
    "    best = await Runner.run(sales_picker, emails)\n",
    "\n",
    "    print(f\"Best sales email:\\n{best.final_output}\")\n"
   ]
  },
  {
   "cell_type": "markdown",
   "id": "b5ee4f85",
   "metadata": {},
   "source": [
    "## Use of Tools"
   ]
  },
  {
   "cell_type": "code",
   "execution_count": 16,
   "id": "603694dd",
   "metadata": {},
   "outputs": [],
   "source": [
    "sales_agent1 = Agent(\n",
    "        name=\"Professional Sales Agent\",\n",
    "        instructions=instructions1,\n",
    "        model=custom_model\n",
    ")\n",
    "\n",
    "sales_agent2 = Agent(\n",
    "        name=\"Engaging Sales Agent\",\n",
    "        instructions=instructions2,\n",
    "        model=custom_model\n",
    ")\n",
    "\n",
    "sales_agent3 = Agent(\n",
    "        name=\"Busy Sales Agent\",\n",
    "        instructions=instructions3,\n",
    "        model=custom_model\n",
    ")"
   ]
  },
  {
   "cell_type": "code",
   "execution_count": 17,
   "id": "54532a72",
   "metadata": {},
   "outputs": [
    {
     "data": {
      "text/plain": [
       "Agent(name='Professional Sales Agent', instructions='You are a sales agent working for ComplAI, a company that provides a SaaS tool for ensuring SOC2 compliance and preparing for audits, powered by AI. You write professional, serious cold emails.', handoff_description=None, handoffs=[], model=<agents.models.openai_chatcompletions.OpenAIChatCompletionsModel object at 0x107255430>, model_settings=ModelSettings(temperature=None, top_p=None, frequency_penalty=None, presence_penalty=None, tool_choice=None, parallel_tool_calls=None, truncation=None, max_tokens=None, reasoning=None, metadata=None, store=None, include_usage=None, extra_query=None, extra_body=None, extra_headers=None), tools=[], mcp_servers=[], mcp_config={}, input_guardrails=[], output_guardrails=[], output_type=None, hooks=None, tool_use_behavior='run_llm_again', reset_tool_choice=True)"
      ]
     },
     "execution_count": 17,
     "metadata": {},
     "output_type": "execute_result"
    }
   ],
   "source": [
    "sales_agent1"
   ]
  },
  {
   "cell_type": "markdown",
   "id": "e290410a",
   "metadata": {},
   "source": [
    "## Tools and Agent integration"
   ]
  },
  {
   "cell_type": "code",
   "execution_count": 18,
   "id": "760c005f",
   "metadata": {},
   "outputs": [],
   "source": [
    "@function_tool\n",
    "def send_email(body: str):\n",
    "    \"\"\" Send out an email with the given body to all sales prospects via Resend \"\"\"\n",
    "    \n",
    "    # Set up email sender, recipient, and content\n",
    "    from_email = \"shardulggore@gmail.com\"  # Replace with your verified sender\n",
    "    to_email = \"shardulgg972001@gmail.com\"  # Replace with recipient's email\n",
    "    \n",
    "    # Resend API headers and payload\n",
    "    headers = {\n",
    "        \"Authorization\": f\"Bearer {RESEND_API_KEY}\",\n",
    "        \"Content-Type\": \"application/json\"\n",
    "    }\n",
    "    \n",
    "    payload = {\n",
    "        \"from\": f\"onboarding@resend.dev\",\n",
    "        \"to\": \"shardulggore@gmail.com\",\n",
    "        \"subject\": \"Sales email\",\n",
    "        \"html\": f\"<p>{body}</p>\"  # Body wrapped in <p> tags for HTML format\n",
    "    }\n",
    "    \n",
    "    # Send email using Resend API\n",
    "    response = requests.post(\"https://api.resend.com/emails\", json=payload, headers=headers)\n",
    "    \n",
    "    # Check if the request was successful\n",
    "    if response.status_code == 202:\n",
    "        return {\"status\": \"success\"}\n",
    "    else:\n",
    "        return {\"status\": \"failure\", \"message\": response.text}"
   ]
  },
  {
   "cell_type": "code",
   "execution_count": 19,
   "id": "9041f001",
   "metadata": {},
   "outputs": [
    {
     "data": {
      "text/plain": [
       "FunctionTool(name='send_email', description='Send out an email with the given body to all sales prospects via Resend', params_json_schema={'properties': {'body': {'title': 'Body', 'type': 'string'}}, 'required': ['body'], 'title': 'send_email_args', 'type': 'object', 'additionalProperties': False}, on_invoke_tool=<function function_tool.<locals>._create_function_tool.<locals>._on_invoke_tool at 0x106e6aca0>, strict_json_schema=True)"
      ]
     },
     "execution_count": 19,
     "metadata": {},
     "output_type": "execute_result"
    }
   ],
   "source": [
    "send_email"
   ]
  },
  {
   "cell_type": "markdown",
   "id": "c2ea3d34",
   "metadata": {},
   "source": [
    "### Convert agent to tool"
   ]
  },
  {
   "cell_type": "code",
   "execution_count": 20,
   "id": "6bccc1c0",
   "metadata": {},
   "outputs": [
    {
     "data": {
      "text/plain": [
       "FunctionTool(name='sales_agent1', description='Write a cold sales email', params_json_schema={'properties': {'input': {'title': 'Input', 'type': 'string'}}, 'required': ['input'], 'title': 'sales_agent1_args', 'type': 'object', 'additionalProperties': False}, on_invoke_tool=<function function_tool.<locals>._create_function_tool.<locals>._on_invoke_tool at 0x107e589a0>, strict_json_schema=True)"
      ]
     },
     "execution_count": 20,
     "metadata": {},
     "output_type": "execute_result"
    }
   ],
   "source": [
    "tool1 = sales_agent1.as_tool(tool_name=\"sales_agent1\", tool_description=\"Write a cold sales email\")\n",
    "tool1"
   ]
  },
  {
   "cell_type": "code",
   "execution_count": 21,
   "id": "750f563a",
   "metadata": {},
   "outputs": [
    {
     "data": {
      "text/plain": [
       "[FunctionTool(name='sales_agent1', description='Write a cold sales email', params_json_schema={'properties': {'input': {'title': 'Input', 'type': 'string'}}, 'required': ['input'], 'title': 'sales_agent1_args', 'type': 'object', 'additionalProperties': False}, on_invoke_tool=<function function_tool.<locals>._create_function_tool.<locals>._on_invoke_tool at 0x10566fa60>, strict_json_schema=True),\n",
       " FunctionTool(name='sales_agent2', description='Write a cold sales email', params_json_schema={'properties': {'input': {'title': 'Input', 'type': 'string'}}, 'required': ['input'], 'title': 'sales_agent2_args', 'type': 'object', 'additionalProperties': False}, on_invoke_tool=<function function_tool.<locals>._create_function_tool.<locals>._on_invoke_tool at 0x10566c860>, strict_json_schema=True),\n",
       " FunctionTool(name='sales_agent3', description='Write a cold sales email', params_json_schema={'properties': {'input': {'title': 'Input', 'type': 'string'}}, 'required': ['input'], 'title': 'sales_agent3_args', 'type': 'object', 'additionalProperties': False}, on_invoke_tool=<function function_tool.<locals>._create_function_tool.<locals>._on_invoke_tool at 0x10566d620>, strict_json_schema=True),\n",
       " FunctionTool(name='send_email', description='Send out an email with the given body to all sales prospects via Resend', params_json_schema={'properties': {'body': {'title': 'Body', 'type': 'string'}}, 'required': ['body'], 'title': 'send_email_args', 'type': 'object', 'additionalProperties': False}, on_invoke_tool=<function function_tool.<locals>._create_function_tool.<locals>._on_invoke_tool at 0x106e6aca0>, strict_json_schema=True)]"
      ]
     },
     "execution_count": 21,
     "metadata": {},
     "output_type": "execute_result"
    }
   ],
   "source": [
    "description = \"Write a cold sales email\"\n",
    "\n",
    "tool1 = sales_agent1.as_tool(tool_name=\"sales_agent1\", tool_description=description)\n",
    "tool2 = sales_agent2.as_tool(tool_name=\"sales_agent2\", tool_description=description)\n",
    "tool3 = sales_agent3.as_tool(tool_name=\"sales_agent3\", tool_description=description)\n",
    "\n",
    "tools = [tool1, tool2, tool3, send_email]\n",
    "\n",
    "tools"
   ]
  },
  {
   "cell_type": "code",
   "execution_count": 22,
   "id": "83ada28d",
   "metadata": {},
   "outputs": [],
   "source": [
    "instructions =\"You are a sales manager working for ComplAI. You use the tools given to you to generate cold sales emails. \\\n",
    "You never generate sales emails yourself; you always use the tools. \\\n",
    "You try all 3 sales_agent tools once before choosing the best one. \\\n",
    "You pick the single best email and use the send_email tool to send the best email (and only the best email) to the user.\"\n",
    "\n",
    "\n",
    "sales_manager = Agent(name=\"Sales Manager\", instructions=instructions, tools=tools, model=custom_model)\n",
    "\n",
    "message = \"Send a cold sales email addressed to 'Dear CEO'\"\n",
    "\n",
    "with trace(\"Sales manager\"):\n",
    "    result = await Runner.run(sales_manager, message)"
   ]
  },
  {
   "cell_type": "code",
   "execution_count": 23,
   "id": "5fea829e",
   "metadata": {},
   "outputs": [],
   "source": [
    "\n",
    "subject_instructions = \"You can write a subject for a cold sales email. \\\n",
    "You are given a message and you need to write a subject for an email that is likely to get a response.\"\n",
    "\n",
    "html_instructions = \"You can convert a text email body to an HTML email body. \\\n",
    "You are given a text email body which might have some markdown \\\n",
    "and you need to convert it to an HTML email body with simple, clear, compelling layout and design.\"\n",
    "\n",
    "subject_writer = Agent(name=\"Email subject writer\", instructions=subject_instructions, model=custom_model)\n",
    "subject_tool = subject_writer.as_tool(tool_name=\"subject_writer\", tool_description=\"Write a subject for a cold sales email\")\n",
    "\n",
    "html_converter = Agent(name=\"HTML email body converter\", instructions=html_instructions, model=custom_model)\n",
    "html_tool = html_converter.as_tool(tool_name=\"html_converter\",tool_description=\"Convert a text email body to an HTML email body\")\n"
   ]
  },
  {
   "cell_type": "code",
   "execution_count": 24,
   "id": "0397bf86",
   "metadata": {},
   "outputs": [],
   "source": [
    "@function_tool\n",
    "def send_html_email(subject: str, html_body: str) -> Dict[str, str]:\n",
    "    \"\"\"Send out an email with the given subject and HTML body to all sales prospects using Resend\"\"\"\n",
    "    \n",
    "    # Replace with your actual verified sender and target recipient\n",
    "    from_email = \"ed@edwarddonner.com\"\n",
    "    to_email = \"shardulggore@gmail.com\"\n",
    "    \n",
    "    # Get the Resend API key from environment variable\n",
    "    RESEND_API_KEY = os.environ.get(\"RESEND_API_KEY\")\n",
    "    \n",
    "    headers = {\n",
    "        \"Authorization\": f\"Bearer {RESEND_API_KEY}\",\n",
    "        \"Content-Type\": \"application/json\"\n",
    "    }\n",
    "    \n",
    "    payload = {\n",
    "        \"from\": f\"Ed Donner <{from_email}>\",\n",
    "        \"to\": [to_email],\n",
    "        \"subject\": subject,\n",
    "        \"html\": html_body\n",
    "    }\n",
    "    \n",
    "    response = requests.post(\"https://api.resend.com/emails\", json=payload, headers=headers)\n",
    "    \n",
    "    if response.status_code == 202:\n",
    "        return {\"status\": \"success\"}\n",
    "    else:\n",
    "        return {\"status\": \"failure\", \"message\": response.text}\n"
   ]
  },
  {
   "cell_type": "code",
   "execution_count": 25,
   "id": "def58de1",
   "metadata": {},
   "outputs": [],
   "source": [
    "tools = [subject_tool, html_tool, send_html_email]"
   ]
  },
  {
   "cell_type": "code",
   "execution_count": 26,
   "id": "2bb37a97",
   "metadata": {},
   "outputs": [
    {
     "data": {
      "text/plain": [
       "[FunctionTool(name='subject_writer', description='Write a subject for a cold sales email', params_json_schema={'properties': {'input': {'title': 'Input', 'type': 'string'}}, 'required': ['input'], 'title': 'subject_writer_args', 'type': 'object', 'additionalProperties': False}, on_invoke_tool=<function function_tool.<locals>._create_function_tool.<locals>._on_invoke_tool at 0x1055320c0>, strict_json_schema=True),\n",
       " FunctionTool(name='html_converter', description='Convert a text email body to an HTML email body', params_json_schema={'properties': {'input': {'title': 'Input', 'type': 'string'}}, 'required': ['input'], 'title': 'html_converter_args', 'type': 'object', 'additionalProperties': False}, on_invoke_tool=<function function_tool.<locals>._create_function_tool.<locals>._on_invoke_tool at 0x107f18900>, strict_json_schema=True),\n",
       " FunctionTool(name='send_html_email', description='Send out an email with the given subject and HTML body to all sales prospects using Resend', params_json_schema={'properties': {'subject': {'title': 'Subject', 'type': 'string'}, 'html_body': {'title': 'Html Body', 'type': 'string'}}, 'required': ['subject', 'html_body'], 'title': 'send_html_email_args', 'type': 'object', 'additionalProperties': False}, on_invoke_tool=<function function_tool.<locals>._create_function_tool.<locals>._on_invoke_tool at 0x105532200>, strict_json_schema=True)]"
      ]
     },
     "execution_count": 26,
     "metadata": {},
     "output_type": "execute_result"
    }
   ],
   "source": [
    "tools"
   ]
  },
  {
   "cell_type": "code",
   "execution_count": 27,
   "id": "0b84ef93",
   "metadata": {},
   "outputs": [],
   "source": [
    "instructions =\"You are an email formatter and sender. You receive the body of an email to be sent. \\\n",
    "You first use the subject_writer tool to write a subject for the email, then use the html_converter tool to convert the body to HTML. \\\n",
    "Finally, you use the send_html_email tool to send the email with the subject and HTML body.\"\n",
    "\n",
    "\n",
    "emailer_agent = Agent(\n",
    "    name=\"Email Manager\",\n",
    "    instructions=instructions,\n",
    "    tools=tools,\n",
    "    model=custom_model,\n",
    "    handoff_description=\"Convert an email to HTML and send it\")\n"
   ]
  },
  {
   "cell_type": "code",
   "execution_count": 28,
   "id": "09c9eb15",
   "metadata": {},
   "outputs": [
    {
     "name": "stdout",
     "output_type": "stream",
     "text": [
      "[FunctionTool(name='sales_agent1', description='Write a cold sales email', params_json_schema={'properties': {'input': {'title': 'Input', 'type': 'string'}}, 'required': ['input'], 'title': 'sales_agent1_args', 'type': 'object', 'additionalProperties': False}, on_invoke_tool=<function function_tool.<locals>._create_function_tool.<locals>._on_invoke_tool at 0x10566fa60>, strict_json_schema=True), FunctionTool(name='sales_agent2', description='Write a cold sales email', params_json_schema={'properties': {'input': {'title': 'Input', 'type': 'string'}}, 'required': ['input'], 'title': 'sales_agent2_args', 'type': 'object', 'additionalProperties': False}, on_invoke_tool=<function function_tool.<locals>._create_function_tool.<locals>._on_invoke_tool at 0x10566c860>, strict_json_schema=True), FunctionTool(name='sales_agent3', description='Write a cold sales email', params_json_schema={'properties': {'input': {'title': 'Input', 'type': 'string'}}, 'required': ['input'], 'title': 'sales_agent3_args', 'type': 'object', 'additionalProperties': False}, on_invoke_tool=<function function_tool.<locals>._create_function_tool.<locals>._on_invoke_tool at 0x10566d620>, strict_json_schema=True)]\n",
      "[Agent(name='Email Manager', instructions='You are an email formatter and sender. You receive the body of an email to be sent. You first use the subject_writer tool to write a subject for the email, then use the html_converter tool to convert the body to HTML. Finally, you use the send_html_email tool to send the email with the subject and HTML body.', handoff_description='Convert an email to HTML and send it', handoffs=[], model=<agents.models.openai_chatcompletions.OpenAIChatCompletionsModel object at 0x107255430>, model_settings=ModelSettings(temperature=None, top_p=None, frequency_penalty=None, presence_penalty=None, tool_choice=None, parallel_tool_calls=None, truncation=None, max_tokens=None, reasoning=None, metadata=None, store=None, include_usage=None, extra_query=None, extra_body=None, extra_headers=None), tools=[FunctionTool(name='subject_writer', description='Write a subject for a cold sales email', params_json_schema={'properties': {'input': {'title': 'Input', 'type': 'string'}}, 'required': ['input'], 'title': 'subject_writer_args', 'type': 'object', 'additionalProperties': False}, on_invoke_tool=<function function_tool.<locals>._create_function_tool.<locals>._on_invoke_tool at 0x1055320c0>, strict_json_schema=True), FunctionTool(name='html_converter', description='Convert a text email body to an HTML email body', params_json_schema={'properties': {'input': {'title': 'Input', 'type': 'string'}}, 'required': ['input'], 'title': 'html_converter_args', 'type': 'object', 'additionalProperties': False}, on_invoke_tool=<function function_tool.<locals>._create_function_tool.<locals>._on_invoke_tool at 0x107f18900>, strict_json_schema=True), FunctionTool(name='send_html_email', description='Send out an email with the given subject and HTML body to all sales prospects using Resend', params_json_schema={'properties': {'subject': {'title': 'Subject', 'type': 'string'}, 'html_body': {'title': 'Html Body', 'type': 'string'}}, 'required': ['subject', 'html_body'], 'title': 'send_html_email_args', 'type': 'object', 'additionalProperties': False}, on_invoke_tool=<function function_tool.<locals>._create_function_tool.<locals>._on_invoke_tool at 0x105532200>, strict_json_schema=True)], mcp_servers=[], mcp_config={}, input_guardrails=[], output_guardrails=[], output_type=None, hooks=None, tool_use_behavior='run_llm_again', reset_tool_choice=True)]\n"
     ]
    }
   ],
   "source": [
    "tools = [tool1, tool2, tool3]\n",
    "handoffs = [emailer_agent]\n",
    "print(tools)\n",
    "print(handoffs)"
   ]
  },
  {
   "cell_type": "code",
   "execution_count": 29,
   "id": "4c066e50",
   "metadata": {},
   "outputs": [],
   "source": [
    "sales_manager_instructions = \"You are a sales manager working for ComplAI. You use the tools given to you to generate cold sales emails. \\\n",
    "You never generate sales emails yourself; you always use the tools. \\\n",
    "You try all 3 sales agent tools at least once before choosing the best one. \\\n",
    "You can use the tools multiple times if you're not satisfied with the results from the first try. \\\n",
    "You select the single best email using your own judgement of which email will be most effective. \\\n",
    "After picking the email, you handoff to the Email Manager agent to format and send the email.\"\n",
    "\n",
    "\n",
    "sales_manager = Agent(\n",
    "    name=\"Sales Manager\",\n",
    "    instructions=sales_manager_instructions,\n",
    "    tools=tools,\n",
    "    handoffs=handoffs,\n",
    "    model=custom_model)\n",
    "\n",
    "message = \"Send out a cold sales email addressed to Dear CEO from Alice\"\n",
    "\n",
    "with trace(\"Automated SDR\"):\n",
    "    result = await Runner.run(sales_manager, message)"
   ]
  },
  {
   "cell_type": "code",
   "execution_count": null,
   "id": "31581fb9",
   "metadata": {},
   "outputs": [],
   "source": []
  },
  {
   "cell_type": "code",
   "execution_count": null,
   "id": "5bcb0951",
   "metadata": {},
   "outputs": [],
   "source": []
  }
 ],
 "metadata": {
  "kernelspec": {
   "display_name": ".venv",
   "language": "python",
   "name": "python3"
  },
  "language_info": {
   "codemirror_mode": {
    "name": "ipython",
    "version": 3
   },
   "file_extension": ".py",
   "mimetype": "text/x-python",
   "name": "python",
   "nbconvert_exporter": "python",
   "pygments_lexer": "ipython3",
   "version": "3.12.10"
  }
 },
 "nbformat": 4,
 "nbformat_minor": 5
}
