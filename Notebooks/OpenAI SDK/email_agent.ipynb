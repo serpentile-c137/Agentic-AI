{
 "cells": [
  {
   "cell_type": "code",
   "execution_count": null,
   "id": "f0e0758a",
   "metadata": {},
   "outputs": [
    {
     "name": "stderr",
     "output_type": "stream",
     "text": [
      "OPENAI_API_KEY is not set, skipping trace export\n",
      "OPENAI_API_KEY is not set, skipping trace export\n",
      "OPENAI_API_KEY is not set, skipping trace export\n",
      "OPENAI_API_KEY is not set, skipping trace export\n",
      "OPENAI_API_KEY is not set, skipping trace export\n",
      "OPENAI_API_KEY is not set, skipping trace export\n",
      "OPENAI_API_KEY is not set, skipping trace export\n"
     ]
    }
   ],
   "source": [
    "from dotenv import load_dotenv\n",
    "from agents import Agent, Runner, trace, function_tool, OpenAIChatCompletionsModel\n",
    "from openai.types.responses import ResponseTextDeltaEvent\n",
    "from typing import Dict\n",
    "from openai import AsyncOpenAI\n",
    "# import sendgrid\n",
    "import os\n",
    "# from sendgrid.helpers.mail import Mail, Email, To, Content\n",
    "import asyncio\n",
    "import requests\n",
    "import resend"
   ]
  },
  {
   "cell_type": "code",
   "execution_count": 2,
   "id": "d14b4bb2",
   "metadata": {},
   "outputs": [],
   "source": [
    "load_dotenv(override=True)\n",
    "RESEND_API_KEY = os.getenv(\"RESEND_API_KEY\")"
   ]
  },
  {
   "cell_type": "markdown",
   "id": "82c2a9c7",
   "metadata": {},
   "source": [
    "##Agent Workflow"
   ]
  },
  {
   "cell_type": "code",
   "execution_count": 3,
   "id": "f53f811c",
   "metadata": {},
   "outputs": [],
   "source": [
    "instructions1 = \"You are a sales agent working for ComplAI, \\\n",
    "a company that provides a SaaS tool for ensuring SOC2 compliance and preparing for audits, powered by AI. \\\n",
    "You write professional, serious cold emails.\"\n",
    "\n",
    "instructions2 = \"You are a humorous, engaging sales agent working for ComplAI, \\\n",
    "a company that provides a SaaS tool for ensuring SOC2 compliance and preparing for audits, powered by AI. \\\n",
    "You write witty, engaging cold emails that are likely to get a response.\"\n",
    "\n",
    "instructions3 = \"You are a busy sales agent working for ComplAI, \\\n",
    "a company that provides a SaaS tool for ensuring SOC2 compliance and preparing for audits, powered by AI. \\\n",
    "You write concise, to the point cold emails.\""
   ]
  },
  {
   "cell_type": "code",
   "execution_count": 4,
   "id": "637ebd8b",
   "metadata": {},
   "outputs": [],
   "source": [
    "BASE_URL = \"https://api.groq.com/openai/v1\"\n",
    "MODEL_NAME='llama-3.3-70b-versatile'"
   ]
  },
  {
   "cell_type": "code",
   "execution_count": 5,
   "id": "2515e93c",
   "metadata": {},
   "outputs": [],
   "source": [
    "groq_client = AsyncOpenAI(base_url=BASE_URL, api_key=os.getenv(\"GROQ_API_KEY\"))\n",
    "\n",
    "custom_model = OpenAIChatCompletionsModel(model=MODEL_NAME, openai_client=groq_client)"
   ]
  },
  {
   "cell_type": "code",
   "execution_count": 6,
   "id": "bd1f6aa4",
   "metadata": {},
   "outputs": [],
   "source": [
    "sales_agent1 = Agent(\n",
    "        name=\"Professional Sales Agent\",\n",
    "        instructions=instructions1,\n",
    "        model=custom_model\n",
    ")\n",
    "\n",
    "sales_agent2 = Agent(\n",
    "        name=\"Engaging Sales Agent\",\n",
    "        instructions=instructions2,\n",
    "        model=custom_model\n",
    ")\n",
    "\n",
    "sales_agent3 = Agent(\n",
    "        name=\"Busy Sales Agent\",\n",
    "        instructions=instructions3,\n",
    "        model=custom_model\n",
    ")"
   ]
  },
  {
   "cell_type": "code",
   "execution_count": 7,
   "id": "7aae2012",
   "metadata": {},
   "outputs": [
    {
     "name": "stdout",
     "output_type": "stream",
     "text": [
      "Subject: Streamline Your SOC2 Compliance with ComplAI\n",
      "\n",
      "Dear [Recipient's Name],\n",
      "\n",
      "I came across your company, [Company Name], and was impressed by the innovative work you're doing in [Industry/Field]. As a leader in the industry, I'm sure you understand the importance of maintaining the highest level of security and compliance, particularly when it comes to SOC2.\n",
      "\n",
      "At ComplAI, we've developed an AI-powered SaaS tool designed to simplify and accelerate the SOC2 compliance process. Our platform helps organizations like yours efficiently prepare for audits, identify potential risks, and demonstrate compliance with ease.\n",
      "\n",
      "With ComplAI, you'll be able to:\n",
      "\n",
      "* Automate compliance workflows and reduce manual effort\n",
      "* Identify and remediate control gaps with our AI-driven risk assessment\n",
      "* Streamline audit preparation and reduce the time spent on audit-related activities\n",
      "* Enhance visibility and transparency into your compliance posture\n",
      "\n",
      "Our solution is designed to help you achieve and maintain SOC2 compliance with confidence, so you can focus on what matters most - driving growth and innovation in your business.\n",
      "\n",
      "I'd love to schedule a call to discuss how ComplAI can support your organization's compliance goals. Would you be available for a 15-minute call next [Day/Week]?\n",
      "\n",
      "Looking forward to the opportunity to explore how we can help.\n",
      "\n",
      "Best regards,\n",
      "\n",
      "[Your Name]\n",
      "Sales Agent, ComplAI\n",
      "[Your Contact Information]"
     ]
    }
   ],
   "source": [
    "\n",
    "result = Runner.run_streamed(sales_agent1, input=\"Write a cold sales email\")\n",
    "async for event in result.stream_events():\n",
    "    if event.type == \"raw_response_event\" and isinstance(event.data, ResponseTextDeltaEvent):\n",
    "        print(event.data.delta, end=\"\", flush=True)"
   ]
  },
  {
   "cell_type": "code",
   "execution_count": 8,
   "id": "11019975",
   "metadata": {},
   "outputs": [
    {
     "name": "stdout",
     "output_type": "stream",
     "text": [
      "Subject: Streamline Your SOC 2 Compliance with ComplAI\n",
      "\n",
      "Dear [Recipient's Name],\n",
      "\n",
      "I came across your company, [Company Name], and was impressed by the innovative work you're doing in [industry/field]. As a leader in the [industry/field] space, I'm sure you understand the importance of maintaining the highest standards of security and compliance.\n",
      "\n",
      "As you continue to grow and scale, ensuring SOC 2 compliance is crucial to building trust with your customers and stakeholders. However, the process of preparing for a SOC 2 audit can be time-consuming, complex, and resource-intensive.\n",
      "\n",
      "That's where ComplAI can help. Our cutting-edge SaaS tool, powered by AI, simplifies the SOC 2 compliance process, helping you prepare for audits with ease and confidence. With ComplAI, you can:\n",
      "\n",
      "* Automate compliance monitoring and reporting\n",
      "* Identify and mitigate risks in real-time\n",
      "* Streamline audit preparation and reduce costs\n",
      "* Ensure continuous compliance with evolving regulations\n",
      "\n",
      "Our AI-driven platform provides personalized recommendations, real-time alerts, and a customized compliance roadmap to help you achieve and maintain SOC 2 compliance.\n",
      "\n",
      "I'd love to schedule a call to discuss how ComplAI can support your company's compliance needs and help you achieve your business goals. Would you be available for a 15-minute call next [day/week]?\n",
      "\n",
      "Please let me know if this is something that interests you, and I'll send over a calendar invite.\n",
      "\n",
      "Best regards,\n",
      "\n",
      "[Your Name]\n",
      "Sales Agent, ComplAI\n",
      "[Your Email Address]\n",
      "[Your Phone Number]\n",
      "\n",
      "\n",
      "Subject: Don't Let SOC2 Audits Haunt You\n",
      "\n",
      "Dear [Recipient's Name],\n",
      "\n",
      "Are SOC2 audits keeping you up at night, haunting your every waking moment? Do you dream of spreadsheets, control matrices, and audit reports? (If so, we need to talk about your sleep schedule).\n",
      "\n",
      "But seriously, ensuring SOC2 compliance can be a daunting task, especially when done manually. That's where ComplAI comes in - our AI-powered SaaS tool helps streamline the process, making it easier to prepare for audits and maintain compliance.\n",
      "\n",
      "With ComplAI, you'll be able to:\n",
      "\n",
      "Automate evidence collection and mapping\n",
      "Identify gaps in your controls and remediate them quickly\n",
      "Generate audit-ready reports with a few clicks\n",
      "\n",
      "Our tool is like having a team of expert auditors at your fingertips (minus the awkward small talk and expensive consulting fees).\n",
      "\n",
      "We've helped numerous companies achieve SOC2 compliance with ease. Here's what one of our happy customers had to say: \"[ComplAI] reduced our audit prep time by 70% and gave us peace of mind knowing we're always compliant.\"\n",
      "\n",
      "If you're tired of living in fear of SOC2 audits, let's chat about how ComplAI can help. We'd love to schedule a demo and show you how our tool can make your life easier.\n",
      "\n",
      "Looking forward to hearing from you and helping you exorcise those audit demons!\n",
      "\n",
      "Best regards,\n",
      "[Your Name]\n",
      "\n",
      "P.S. As a special treat, use the code \"AUDITNIGHTMARES\" for a 10% discount on your first year's subscription. Don't let audits haunt you - take control with ComplAI!\n",
      "\n",
      "\n",
      "Subject: Streamline Your SOC2 Compliance with ComplAI\n",
      "\n",
      "Dear [Recipient's Name],\n",
      "\n",
      "As a [Recipient's Job Title] at [Company Name], you understand the importance of SOC2 compliance. Are you tired of manual audits and tedious compliance checks?\n",
      "\n",
      "ComplAI's AI-powered SaaS tool simplifies SOC2 compliance and audit preparation, saving you time and resources. Our platform:\n",
      "\n",
      "* Automates control monitoring and evidence collection\n",
      "* Provides real-time compliance scoring and reporting\n",
      "* Offers personalized audit readiness guidance\n",
      "\n",
      "Schedule a demo to see how ComplAI can help your organization achieve and maintain SOC2 compliance efficiently.\n",
      "\n",
      "Best,\n",
      "[Your Name]\n",
      "Sales Agent, ComplAI\n",
      "[Your Email Address]\n",
      "[Your Phone Number]\n",
      "\n",
      "\n"
     ]
    }
   ],
   "source": [
    "message = \"Write a cold sales email\"\n",
    "\n",
    "with trace(\"Parallel cold emails\"):\n",
    "    results = await asyncio.gather(\n",
    "        Runner.run(sales_agent1, message),\n",
    "        Runner.run(sales_agent2, message),\n",
    "        Runner.run(sales_agent3, message),\n",
    "    )\n",
    "\n",
    "outputs = [result.final_output for result in results]\n",
    "\n",
    "for output in outputs:\n",
    "    print(output + \"\\n\\n\")\n"
   ]
  },
  {
   "cell_type": "code",
   "execution_count": 9,
   "id": "e8883178",
   "metadata": {},
   "outputs": [],
   "source": [
    "sales_picker = Agent(\n",
    "    name=\"sales_picker\",\n",
    "    instructions=\"You pick the best cold sales email from the given options. \\\n",
    "Imagine you are a customer and pick the one you are most likely to respond to. \\\n",
    "Do not give an explanation; reply with the selected email only.\",\n",
    "    model=custom_model\n",
    ")"
   ]
  },
  {
   "cell_type": "code",
   "execution_count": 10,
   "id": "f8e79adc",
   "metadata": {},
   "outputs": [
    {
     "name": "stdout",
     "output_type": "stream",
     "text": [
      "Best sales email:\n",
      "Subject: Simplify SOC2 Compliance with ComplAI\n",
      "\n",
      "Dear [Recipient's Name],\n",
      "\n",
      "I hope this email finds you well. As a [Recipient's Title] at [Company Name], I'm sure you understand the importance of maintaining SOC2 compliance in today's complex regulatory landscape. Achieving and maintaining this standard can be a daunting task, requiring significant time, resources, and expertise.\n",
      "\n",
      "At ComplAI, we believe that compliance should be a catalyst for growth, not a hindrance. Our innovative SaaS tool, powered by AI, is designed to streamline the SOC2 compliance process, reducing the burden on your team and ensuring a seamless audit experience.\n",
      "\n",
      "With ComplAI, you'll be able to:\n",
      "\n",
      "* Automate control monitoring and evidence collection\n",
      "* Identify and mitigate potential risks and gaps in real-time\n",
      "* Generate audit-ready reports and documentation\n",
      "* Collaborate with your team and stakeholders in a centralized platform\n",
      "\n",
      "Our solution is designed to help you navigate the complexities of SOC2 compliance, freeing up your team to focus on what matters most - driving business growth and innovation.\n",
      "\n",
      "I'd love to schedule a call to discuss how ComplAI can support your compliance efforts and help you achieve your business goals. If you're interested, please let me know a time that works for you, or reply to this email and I'll send over a calendar invite.\n",
      "\n",
      "Looking forward to the opportunity to speak with you soon.\n",
      "\n",
      "Best regards,\n",
      "\n",
      "[Your Name]\n",
      "Sales Agent, ComplAI\n",
      "[Your Email Address]\n",
      "[Your Phone Number]\n"
     ]
    }
   ],
   "source": [
    "message = \"Write a cold sales email\"\n",
    "\n",
    "with trace(\"Selection from sales people\"):\n",
    "    results = await asyncio.gather(\n",
    "        Runner.run(sales_agent1, message),\n",
    "        Runner.run(sales_agent2, message),\n",
    "        Runner.run(sales_agent3, message),\n",
    "    )\n",
    "    outputs = [result.final_output for result in results]\n",
    "\n",
    "    emails = \"Cold sales emails:\\n\\n\".join(outputs)\n",
    "\n",
    "    best = await Runner.run(sales_picker, emails)\n",
    "\n",
    "    print(f\"Best sales email:\\n{best.final_output}\")\n"
   ]
  },
  {
   "cell_type": "markdown",
   "id": "b5ee4f85",
   "metadata": {},
   "source": [
    "## Use of Tools"
   ]
  },
  {
   "cell_type": "code",
   "execution_count": 11,
   "id": "603694dd",
   "metadata": {},
   "outputs": [],
   "source": [
    "sales_agent1 = Agent(\n",
    "        name=\"Professional Sales Agent\",\n",
    "        instructions=instructions1,\n",
    "        model=custom_model\n",
    ")\n",
    "\n",
    "sales_agent2 = Agent(\n",
    "        name=\"Engaging Sales Agent\",\n",
    "        instructions=instructions2,\n",
    "        model=custom_model\n",
    ")\n",
    "\n",
    "sales_agent3 = Agent(\n",
    "        name=\"Busy Sales Agent\",\n",
    "        instructions=instructions3,\n",
    "        model=custom_model\n",
    ")"
   ]
  },
  {
   "cell_type": "code",
   "execution_count": 12,
   "id": "54532a72",
   "metadata": {},
   "outputs": [
    {
     "data": {
      "text/plain": [
       "Agent(name='Professional Sales Agent', instructions='You are a sales agent working for ComplAI, a company that provides a SaaS tool for ensuring SOC2 compliance and preparing for audits, powered by AI. You write professional, serious cold emails.', handoff_description=None, handoffs=[], model=<agents.models.openai_chatcompletions.OpenAIChatCompletionsModel object at 0x10bce2030>, model_settings=ModelSettings(temperature=None, top_p=None, frequency_penalty=None, presence_penalty=None, tool_choice=None, parallel_tool_calls=None, truncation=None, max_tokens=None, reasoning=None, metadata=None, store=None, include_usage=None, extra_query=None, extra_body=None, extra_headers=None), tools=[], mcp_servers=[], mcp_config={}, input_guardrails=[], output_guardrails=[], output_type=None, hooks=None, tool_use_behavior='run_llm_again', reset_tool_choice=True)"
      ]
     },
     "execution_count": 12,
     "metadata": {},
     "output_type": "execute_result"
    }
   ],
   "source": [
    "sales_agent1"
   ]
  },
  {
   "cell_type": "markdown",
   "id": "e290410a",
   "metadata": {},
   "source": [
    "## Tools and Agent integration"
   ]
  },
  {
   "cell_type": "code",
   "execution_count": 18,
   "id": "760c005f",
   "metadata": {},
   "outputs": [],
   "source": [
    "@function_tool\n",
    "def send_email(body: str):\n",
    "    \"\"\" Send out an email with the given body to all sales prospects via Resend \"\"\"\n",
    "    \n",
    "    # Set up email sender, recipient, and content\n",
    "    from_email = \"shardulggore@gmail.com\"  # Replace with your verified sender\n",
    "    to_email = \"shardulgg972001@gmail.com\"  # Replace with recipient's email\n",
    "    \n",
    "    # Resend API headers and payload\n",
    "    headers = {\n",
    "        \"Authorization\": f\"Bearer {RESEND_API_KEY}\",\n",
    "        \"Content-Type\": \"application/json\"\n",
    "    }\n",
    "    \n",
    "    payload = {\n",
    "        \"from\": f\"onboarding@resend.dev\",\n",
    "        \"to\": \"shardulggore@gmail.com\",\n",
    "        \"subject\": \"Sales email\",\n",
    "        \"html\": f\"<p>{body}</p>\"  # Body wrapped in <p> tags for HTML format\n",
    "    }\n",
    "    \n",
    "    # Send email using Resend API\n",
    "    response = requests.post(\"https://api.resend.com/emails\", json=payload, headers=headers)\n",
    "    \n",
    "    # Check if the request was successful\n",
    "    if response.status_code == 202:\n",
    "        return {\"status\": \"success\"}\n",
    "    else:\n",
    "        return {\"status\": \"failure\", \"message\": response.text}"
   ]
  },
  {
   "cell_type": "code",
   "execution_count": 19,
   "id": "9041f001",
   "metadata": {},
   "outputs": [
    {
     "data": {
      "text/plain": [
       "FunctionTool(name='send_email', description='Send out an email with the given body to all sales prospects via Resend', params_json_schema={'properties': {'body': {'title': 'Body', 'type': 'string'}}, 'required': ['body'], 'title': 'send_email_args', 'type': 'object', 'additionalProperties': False}, on_invoke_tool=<function function_tool.<locals>._create_function_tool.<locals>._on_invoke_tool at 0x10c3deca0>, strict_json_schema=True)"
      ]
     },
     "execution_count": 19,
     "metadata": {},
     "output_type": "execute_result"
    }
   ],
   "source": [
    "send_email"
   ]
  },
  {
   "cell_type": "markdown",
   "id": "c2ea3d34",
   "metadata": {},
   "source": [
    "### Convert agent to tool"
   ]
  },
  {
   "cell_type": "code",
   "execution_count": 23,
   "id": "6bccc1c0",
   "metadata": {},
   "outputs": [
    {
     "data": {
      "text/plain": [
       "FunctionTool(name='sales_agent1', description='Write a cold sales email', params_json_schema={'properties': {'input': {'title': 'Input', 'type': 'string'}}, 'required': ['input'], 'title': 'sales_agent1_args', 'type': 'object', 'additionalProperties': False}, on_invoke_tool=<function function_tool.<locals>._create_function_tool.<locals>._on_invoke_tool at 0x10cba2b60>, strict_json_schema=True)"
      ]
     },
     "execution_count": 23,
     "metadata": {},
     "output_type": "execute_result"
    }
   ],
   "source": [
    "tool1 = sales_agent1.as_tool(tool_name=\"sales_agent1\", tool_description=\"Write a cold sales email\")\n",
    "tool1"
   ]
  },
  {
   "cell_type": "code",
   "execution_count": 24,
   "id": "750f563a",
   "metadata": {},
   "outputs": [
    {
     "data": {
      "text/plain": [
       "[FunctionTool(name='sales_agent1', description='Write a cold sales email', params_json_schema={'properties': {'input': {'title': 'Input', 'type': 'string'}}, 'required': ['input'], 'title': 'sales_agent1_args', 'type': 'object', 'additionalProperties': False}, on_invoke_tool=<function function_tool.<locals>._create_function_tool.<locals>._on_invoke_tool at 0x10cba28e0>, strict_json_schema=True),\n",
       " FunctionTool(name='sales_agent2', description='Write a cold sales email', params_json_schema={'properties': {'input': {'title': 'Input', 'type': 'string'}}, 'required': ['input'], 'title': 'sales_agent2_args', 'type': 'object', 'additionalProperties': False}, on_invoke_tool=<function function_tool.<locals>._create_function_tool.<locals>._on_invoke_tool at 0x10b1465c0>, strict_json_schema=True),\n",
       " FunctionTool(name='sales_agent3', description='Write a cold sales email', params_json_schema={'properties': {'input': {'title': 'Input', 'type': 'string'}}, 'required': ['input'], 'title': 'sales_agent3_args', 'type': 'object', 'additionalProperties': False}, on_invoke_tool=<function function_tool.<locals>._create_function_tool.<locals>._on_invoke_tool at 0x10c592f20>, strict_json_schema=True),\n",
       " FunctionTool(name='send_email', description='Send out an email with the given body to all sales prospects via Resend', params_json_schema={'properties': {'body': {'title': 'Body', 'type': 'string'}}, 'required': ['body'], 'title': 'send_email_args', 'type': 'object', 'additionalProperties': False}, on_invoke_tool=<function function_tool.<locals>._create_function_tool.<locals>._on_invoke_tool at 0x10c3deca0>, strict_json_schema=True)]"
      ]
     },
     "execution_count": 24,
     "metadata": {},
     "output_type": "execute_result"
    }
   ],
   "source": [
    "description = \"Write a cold sales email\"\n",
    "\n",
    "tool1 = sales_agent1.as_tool(tool_name=\"sales_agent1\", tool_description=description)\n",
    "tool2 = sales_agent2.as_tool(tool_name=\"sales_agent2\", tool_description=description)\n",
    "tool3 = sales_agent3.as_tool(tool_name=\"sales_agent3\", tool_description=description)\n",
    "\n",
    "tools = [tool1, tool2, tool3, send_email]\n",
    "\n",
    "tools"
   ]
  },
  {
   "cell_type": "code",
   "execution_count": 25,
   "id": "83ada28d",
   "metadata": {},
   "outputs": [],
   "source": [
    "instructions =\"You are a sales manager working for ComplAI. You use the tools given to you to generate cold sales emails. \\\n",
    "You never generate sales emails yourself; you always use the tools. \\\n",
    "You try all 3 sales_agent tools once before choosing the best one. \\\n",
    "You pick the single best email and use the send_email tool to send the best email (and only the best email) to the user.\"\n",
    "\n",
    "\n",
    "sales_manager = Agent(name=\"Sales Manager\", instructions=instructions, tools=tools, model=custom_model)\n",
    "\n",
    "message = \"Send a cold sales email addressed to 'Dear CEO'\"\n",
    "\n",
    "with trace(\"Sales manager\"):\n",
    "    result = await Runner.run(sales_manager, message)"
   ]
  },
  {
   "cell_type": "code",
   "execution_count": null,
   "id": "5fea829e",
   "metadata": {},
   "outputs": [],
   "source": []
  },
  {
   "cell_type": "code",
   "execution_count": null,
   "id": "0397bf86",
   "metadata": {},
   "outputs": [],
   "source": []
  }
 ],
 "metadata": {
  "kernelspec": {
   "display_name": ".venv",
   "language": "python",
   "name": "python3"
  },
  "language_info": {
   "codemirror_mode": {
    "name": "ipython",
    "version": 3
   },
   "file_extension": ".py",
   "mimetype": "text/x-python",
   "name": "python",
   "nbconvert_exporter": "python",
   "pygments_lexer": "ipython3",
   "version": "3.12.10"
  }
 },
 "nbformat": 4,
 "nbformat_minor": 5
}
