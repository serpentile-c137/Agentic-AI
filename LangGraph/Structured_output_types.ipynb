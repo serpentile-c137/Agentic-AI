{
 "cells": [
  {
   "cell_type": "markdown",
   "id": "e16f021e",
   "metadata": {},
   "source": [
    "## Pydantic Class"
   ]
  },
  {
   "cell_type": "code",
   "execution_count": 1,
   "id": "80fd99e6",
   "metadata": {},
   "outputs": [
    {
     "data": {
      "text/plain": [
       "True"
      ]
     },
     "execution_count": 1,
     "metadata": {},
     "output_type": "execute_result"
    }
   ],
   "source": [
    "from pydantic import BaseModel, Field\n",
    "from langchain_google_genai import ChatGoogleGenerativeAI\n",
    "from dotenv import load_dotenv\n",
    "import os\n",
    "\n",
    "load_dotenv()"
   ]
  },
  {
   "cell_type": "code",
   "execution_count": 2,
   "id": "2cbbd634",
   "metadata": {},
   "outputs": [],
   "source": [
    "llm = ChatGoogleGenerativeAI(model=\"gemini-2.0-flash\")"
   ]
  },
  {
   "cell_type": "code",
   "execution_count": 3,
   "id": "aa472248",
   "metadata": {},
   "outputs": [],
   "source": [
    "class Country(BaseModel):\n",
    "    \"\"\"Info about a country.\"\"\"\n",
    "    name: str = Field(description=\"The name of the country\")\n",
    "    language: str = Field(description=\"The primary language spoken in the country\")\n",
    "    capital: str = Field(description=\"The capital city of the country\")"
   ]
  },
  {
   "cell_type": "code",
   "execution_count": 4,
   "id": "4f589ed8",
   "metadata": {},
   "outputs": [
    {
     "data": {
      "text/plain": [
       "RunnableBinding(bound=ChatGoogleGenerativeAI(model='models/gemini-2.0-flash', google_api_key=SecretStr('**********'), client=<google.ai.generativelanguage_v1beta.services.generative_service.client.GenerativeServiceClient object at 0x10a9f7ef0>, default_metadata=(), model_kwargs={}), kwargs={'tools': [{'type': 'function', 'function': {'name': 'Country', 'description': 'Info about a country.', 'parameters': {'properties': {'name': {'description': 'The name of the country', 'type': 'string'}, 'language': {'description': 'The primary language spoken in the country', 'type': 'string'}, 'capital': {'description': 'The capital city of the country', 'type': 'string'}}, 'required': ['name', 'language', 'capital'], 'type': 'object'}}}], 'ls_structured_output_format': {'kwargs': {'method': 'function_calling'}, 'schema': {'type': 'function', 'function': {'name': 'Country', 'description': 'Info about a country.', 'parameters': {'properties': {'name': {'description': 'The name of the country', 'type': 'string'}, 'language': {'description': 'The primary language spoken in the country', 'type': 'string'}, 'capital': {'description': 'The capital city of the country', 'type': 'string'}}, 'required': ['name', 'language', 'capital'], 'type': 'object'}}}}, 'tool_choice': 'Country'}, config={}, config_factories=[])\n",
       "| PydanticToolsParser(first_tool_only=True, tools=[<class '__main__.Country'>])"
      ]
     },
     "execution_count": 4,
     "metadata": {},
     "output_type": "execute_result"
    }
   ],
   "source": [
    "structured_llm = llm.with_structured_output(Country)\n",
    "structured_llm"
   ]
  },
  {
   "cell_type": "code",
   "execution_count": 5,
   "id": "88a961fa",
   "metadata": {},
   "outputs": [
    {
     "data": {
      "text/plain": [
       "Country(name='India', language='Hindi', capital='New Delhi')"
      ]
     },
     "execution_count": 5,
     "metadata": {},
     "output_type": "execute_result"
    }
   ],
   "source": [
    "structured_llm.invoke(\"Tell me about India\")"
   ]
  },
  {
   "cell_type": "markdown",
   "id": "dfeff50c",
   "metadata": {},
   "source": [
    "## TypeDict Class"
   ]
  },
  {
   "cell_type": "code",
   "execution_count": 8,
   "id": "88b7a136",
   "metadata": {},
   "outputs": [
    {
     "data": {
      "text/plain": [
       "{'rating': 7,\n",
       " 'punchline': 'Because it left its Windows open!',\n",
       " 'setup': 'Why was the computer cold?'}"
      ]
     },
     "execution_count": 8,
     "metadata": {},
     "output_type": "execute_result"
    }
   ],
   "source": [
    "from typing_extensions import Annotated, TypedDict\n",
    "from typing import Optional\n",
    "\n",
    "class Joke(TypedDict):\n",
    "    \"\"\"A joke with an optional explanation.\"\"\"\n",
    "    setup: Annotated[str, ..., \"The setup of the joke\"]\n",
    "    punchline: Annotated[str, ..., \"The punchline of the joke\"]\n",
    "    rating: Annotated[Optional[int], None,\"How funny the joke is on a scale of 1-10\"]\n",
    "\n",
    "structured_llm_joke = llm.with_structured_output(Joke)\n",
    "structured_llm_joke.invoke(\"Tell me a joke about computers\")"
   ]
  },
  {
   "cell_type": "markdown",
   "id": "1804eb3a",
   "metadata": {},
   "source": [
    "## JSON Object"
   ]
  },
  {
   "cell_type": "code",
   "execution_count": 9,
   "id": "73384798",
   "metadata": {},
   "outputs": [
    {
     "name": "stderr",
     "output_type": "stream",
     "text": [
      "Key 'parameters' is not supported in schema, ignoring\n"
     ]
    },
    {
     "data": {
      "text/plain": [
       "{'rating': 7,\n",
       " 'punchline': 'Because it left its Windows open!',\n",
       " 'setup': 'Why was the computer cold?'}"
      ]
     },
     "execution_count": 9,
     "metadata": {},
     "output_type": "execute_result"
    }
   ],
   "source": [
    "json_schema = {\n",
    "    \"title\": \"joke\",\n",
    "    \"description\": \"Joke to tell user.\",\n",
    "    \"type\": \"object\",\n",
    "    \"properties\": {\n",
    "        \"setup\": {\n",
    "            \"type\": \"string\",\n",
    "            \"description\": \"The setup of the joke\",\n",
    "        },\n",
    "        \"punchline\": {\n",
    "            \"type\": \"string\",\n",
    "            \"description\": \"The punchline to the joke\",\n",
    "        },\n",
    "        \"rating\": {\n",
    "            \"type\": \"integer\",\n",
    "            \"description\": \"How funny the joke is, from 1 to 10\",\n",
    "            \"default\": None,\n",
    "        },\n",
    "    },\n",
    "    \"required\": [\"setup\", \"punchline\"],\n",
    "}\n",
    "structured_llm = llm.with_structured_output(json_schema)\n",
    "\n",
    "structured_llm.invoke(\"Tell me a joke about computers\")"
   ]
  },
  {
   "cell_type": "code",
   "execution_count": null,
   "id": "ff0f3058",
   "metadata": {},
   "outputs": [],
   "source": []
  }
 ],
 "metadata": {
  "kernelspec": {
   "display_name": "agentic-ai (3.12.11)",
   "language": "python",
   "name": "python3"
  },
  "language_info": {
   "codemirror_mode": {
    "name": "ipython",
    "version": 3
   },
   "file_extension": ".py",
   "mimetype": "text/x-python",
   "name": "python",
   "nbconvert_exporter": "python",
   "pygments_lexer": "ipython3",
   "version": "3.12.11"
  }
 },
 "nbformat": 4,
 "nbformat_minor": 5
}
